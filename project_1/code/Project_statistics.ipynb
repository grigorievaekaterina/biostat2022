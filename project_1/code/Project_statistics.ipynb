{
 "cells": [
  {
   "cell_type": "code",
   "execution_count": 1,
   "id": "68f26e88",
   "metadata": {},
   "outputs": [],
   "source": [
    "import numpy as np\n",
    "import pandas as pd\n",
    "import seaborn as sns\n",
    "import matplotlib.pyplot as plt\n",
    "import glob"
   ]
  },
  {
   "cell_type": "markdown",
   "id": "27eba27c",
   "metadata": {},
   "source": [
    "### In this project we used the data, which consists of Olympic Games participants' data"
   ]
  },
  {
   "cell_type": "markdown",
   "id": "11488aaa",
   "metadata": {},
   "source": [
    "#### The dataset has the following features:\n",
    "\n",
    "\n",
    "ID – Unique number for each athlete\n",
    "\n",
    "Name – Athlete's name\n",
    "\n",
    "Sex – M or F\n",
    "\n",
    "Age – Integer\n",
    "\n",
    "Height – In centimeters\n",
    "\n",
    "Weight – In kilograms\n",
    "\n",
    "Team – Team name\n",
    "\n",
    "NOC – National Olympic Committee 3-letter code\n",
    "\n",
    "Games – Year and season\n",
    "\n",
    "Year – Integer\n",
    "\n",
    "Season – Summer or Winter\n",
    "\n",
    "City – Host city\n",
    "\n",
    "Sport – Sport\n",
    "\n",
    "Event – Event\n",
    "\n",
    "Medal – Gold, Silver, Bronze, or NA"
   ]
  },
  {
   "cell_type": "markdown",
   "id": "2af5d11d",
   "metadata": {},
   "source": [
    "### Task 1\n",
    "The data is divided into several files. We need to somehow combine the observations into\n",
    "single table. The function below collects all the observations in one table. "
   ]
  },
  {
   "cell_type": "code",
   "execution_count": 2,
   "id": "317f13c1",
   "metadata": {},
   "outputs": [],
   "source": [
    "def all_in_one(path:str, extension:str):\n",
    "    data_list = glob.glob((path) + f\"/*.{extension}\")\n",
    "    main_df = pd.DataFrame(pd.read_csv(data_list[0]))\n",
    "    for df in data_list:\n",
    "        data = pd.read_csv(df)\n",
    "        main_df = pd.concat([main_df, pd.DataFrame(data)],axis=0)\n",
    "    return main_df"
   ]
  },
  {
   "cell_type": "code",
   "execution_count": 3,
   "id": "87eb80f9",
   "metadata": {},
   "outputs": [
    {
     "data": {
      "text/html": [
       "<div>\n",
       "<style scoped>\n",
       "    .dataframe tbody tr th:only-of-type {\n",
       "        vertical-align: middle;\n",
       "    }\n",
       "\n",
       "    .dataframe tbody tr th {\n",
       "        vertical-align: top;\n",
       "    }\n",
       "\n",
       "    .dataframe thead th {\n",
       "        text-align: right;\n",
       "    }\n",
       "</style>\n",
       "<table border=\"1\" class=\"dataframe\">\n",
       "  <thead>\n",
       "    <tr style=\"text-align: right;\">\n",
       "      <th></th>\n",
       "      <th>ID</th>\n",
       "      <th>Name</th>\n",
       "      <th>Sex</th>\n",
       "      <th>Age</th>\n",
       "      <th>Height</th>\n",
       "      <th>Weight</th>\n",
       "      <th>Team</th>\n",
       "      <th>NOC</th>\n",
       "      <th>Games</th>\n",
       "      <th>Year</th>\n",
       "      <th>Season</th>\n",
       "      <th>City</th>\n",
       "      <th>Sport</th>\n",
       "      <th>Event</th>\n",
       "      <th>Medal</th>\n",
       "    </tr>\n",
       "  </thead>\n",
       "  <tbody>\n",
       "    <tr>\n",
       "      <th>0</th>\n",
       "      <td>1</td>\n",
       "      <td>A Dijiang</td>\n",
       "      <td>M</td>\n",
       "      <td>24.0</td>\n",
       "      <td>180.0</td>\n",
       "      <td>80.0</td>\n",
       "      <td>China</td>\n",
       "      <td>CHN</td>\n",
       "      <td>1992 Summer</td>\n",
       "      <td>1992.0</td>\n",
       "      <td>Summer</td>\n",
       "      <td>Barcelona</td>\n",
       "      <td>Basketball</td>\n",
       "      <td>Basketball Men's Basketball</td>\n",
       "      <td>NaN</td>\n",
       "    </tr>\n",
       "    <tr>\n",
       "      <th>1</th>\n",
       "      <td>2</td>\n",
       "      <td>A Lamusi</td>\n",
       "      <td>M</td>\n",
       "      <td>23.0</td>\n",
       "      <td>170.0</td>\n",
       "      <td>60.0</td>\n",
       "      <td>China</td>\n",
       "      <td>CHN</td>\n",
       "      <td>2012 Summer</td>\n",
       "      <td>2012.0</td>\n",
       "      <td>Summer</td>\n",
       "      <td>London</td>\n",
       "      <td>Judo</td>\n",
       "      <td>Judo Men's Extra-Lightweight</td>\n",
       "      <td>NaN</td>\n",
       "    </tr>\n",
       "    <tr>\n",
       "      <th>2</th>\n",
       "      <td>3</td>\n",
       "      <td>Gunnar Nielsen Aaby</td>\n",
       "      <td>M</td>\n",
       "      <td>24.0</td>\n",
       "      <td>NaN</td>\n",
       "      <td>NaN</td>\n",
       "      <td>Denmark</td>\n",
       "      <td>DEN</td>\n",
       "      <td>1920 Summer</td>\n",
       "      <td>1920.0</td>\n",
       "      <td>Summer</td>\n",
       "      <td>Antwerpen</td>\n",
       "      <td>Football</td>\n",
       "      <td>Football Men's Football</td>\n",
       "      <td>NaN</td>\n",
       "    </tr>\n",
       "    <tr>\n",
       "      <th>3</th>\n",
       "      <td>4</td>\n",
       "      <td>Edgar Lindenau Aabye</td>\n",
       "      <td>M</td>\n",
       "      <td>34.0</td>\n",
       "      <td>NaN</td>\n",
       "      <td>NaN</td>\n",
       "      <td>Denmark/Sweden</td>\n",
       "      <td>DEN</td>\n",
       "      <td>1900 Summer</td>\n",
       "      <td>1900.0</td>\n",
       "      <td>Summer</td>\n",
       "      <td>Paris</td>\n",
       "      <td>Tug-Of-War</td>\n",
       "      <td>Tug-Of-War Men's Tug-Of-War</td>\n",
       "      <td>Gold</td>\n",
       "    </tr>\n",
       "    <tr>\n",
       "      <th>4</th>\n",
       "      <td>5</td>\n",
       "      <td>Christine Jacoba Aaftink</td>\n",
       "      <td>F</td>\n",
       "      <td>21.0</td>\n",
       "      <td>185.0</td>\n",
       "      <td>82.0</td>\n",
       "      <td>Netherlands</td>\n",
       "      <td>NED</td>\n",
       "      <td>1988 Winter</td>\n",
       "      <td>1988.0</td>\n",
       "      <td>Winter</td>\n",
       "      <td>Calgary</td>\n",
       "      <td>Speed Skating</td>\n",
       "      <td>Speed Skating Women's 500 metres</td>\n",
       "      <td>NaN</td>\n",
       "    </tr>\n",
       "    <tr>\n",
       "      <th>...</th>\n",
       "      <td>...</td>\n",
       "      <td>...</td>\n",
       "      <td>...</td>\n",
       "      <td>...</td>\n",
       "      <td>...</td>\n",
       "      <td>...</td>\n",
       "      <td>...</td>\n",
       "      <td>...</td>\n",
       "      <td>...</td>\n",
       "      <td>...</td>\n",
       "      <td>...</td>\n",
       "      <td>...</td>\n",
       "      <td>...</td>\n",
       "      <td>...</td>\n",
       "      <td>...</td>\n",
       "    </tr>\n",
       "    <tr>\n",
       "      <th>22386</th>\n",
       "      <td>135569</td>\n",
       "      <td>Andrzej ya</td>\n",
       "      <td>M</td>\n",
       "      <td>29.0</td>\n",
       "      <td>179.0</td>\n",
       "      <td>89.0</td>\n",
       "      <td>Poland-1</td>\n",
       "      <td>POL</td>\n",
       "      <td>1976 Winter</td>\n",
       "      <td>1976.0</td>\n",
       "      <td>Winter</td>\n",
       "      <td>Innsbruck</td>\n",
       "      <td>Luge</td>\n",
       "      <td>Luge Mixed (Men)'s Doubles</td>\n",
       "      <td>NaN</td>\n",
       "    </tr>\n",
       "    <tr>\n",
       "      <th>22387</th>\n",
       "      <td>135570</td>\n",
       "      <td>Piotr ya</td>\n",
       "      <td>M</td>\n",
       "      <td>27.0</td>\n",
       "      <td>176.0</td>\n",
       "      <td>59.0</td>\n",
       "      <td>Poland</td>\n",
       "      <td>POL</td>\n",
       "      <td>2014 Winter</td>\n",
       "      <td>2014.0</td>\n",
       "      <td>Winter</td>\n",
       "      <td>Sochi</td>\n",
       "      <td>Ski Jumping</td>\n",
       "      <td>Ski Jumping Men's Large Hill, Individual</td>\n",
       "      <td>NaN</td>\n",
       "    </tr>\n",
       "    <tr>\n",
       "      <th>22388</th>\n",
       "      <td>135570</td>\n",
       "      <td>Piotr ya</td>\n",
       "      <td>M</td>\n",
       "      <td>27.0</td>\n",
       "      <td>176.0</td>\n",
       "      <td>59.0</td>\n",
       "      <td>Poland</td>\n",
       "      <td>POL</td>\n",
       "      <td>2014 Winter</td>\n",
       "      <td>2014.0</td>\n",
       "      <td>Winter</td>\n",
       "      <td>Sochi</td>\n",
       "      <td>Ski Jumping</td>\n",
       "      <td>Ski Jumping Men's Large Hill, Team</td>\n",
       "      <td>NaN</td>\n",
       "    </tr>\n",
       "    <tr>\n",
       "      <th>22389</th>\n",
       "      <td>135571</td>\n",
       "      <td>Tomasz Ireneusz ya</td>\n",
       "      <td>M</td>\n",
       "      <td>30.0</td>\n",
       "      <td>185.0</td>\n",
       "      <td>96.0</td>\n",
       "      <td>Poland</td>\n",
       "      <td>POL</td>\n",
       "      <td>1998 Winter</td>\n",
       "      <td>1998.0</td>\n",
       "      <td>Winter</td>\n",
       "      <td>Nagano</td>\n",
       "      <td>Bobsleigh</td>\n",
       "      <td>Bobsleigh Men's Four</td>\n",
       "      <td>NaN</td>\n",
       "    </tr>\n",
       "    <tr>\n",
       "      <th>22390</th>\n",
       "      <td>135571</td>\n",
       "      <td>Tomasz Ireneusz ya</td>\n",
       "      <td>M</td>\n",
       "      <td>34.0</td>\n",
       "      <td>185.0</td>\n",
       "      <td>96.0</td>\n",
       "      <td>Poland</td>\n",
       "      <td>POL</td>\n",
       "      <td>2002 Winter</td>\n",
       "      <td>2002.0</td>\n",
       "      <td>Winter</td>\n",
       "      <td>Salt Lake City</td>\n",
       "      <td>Bobsleigh</td>\n",
       "      <td>Bobsleigh Men's Four</td>\n",
       "      <td>NaN</td>\n",
       "    </tr>\n",
       "  </tbody>\n",
       "</table>\n",
       "<p>293632 rows × 15 columns</p>\n",
       "</div>"
      ],
      "text/plain": [
       "           ID                      Name Sex   Age  Height  Weight  \\\n",
       "0           1                 A Dijiang   M  24.0   180.0    80.0   \n",
       "1           2                  A Lamusi   M  23.0   170.0    60.0   \n",
       "2           3       Gunnar Nielsen Aaby   M  24.0     NaN     NaN   \n",
       "3           4      Edgar Lindenau Aabye   M  34.0     NaN     NaN   \n",
       "4           5  Christine Jacoba Aaftink   F  21.0   185.0    82.0   \n",
       "...       ...                       ...  ..   ...     ...     ...   \n",
       "22386  135569                Andrzej ya   M  29.0   179.0    89.0   \n",
       "22387  135570                  Piotr ya   M  27.0   176.0    59.0   \n",
       "22388  135570                  Piotr ya   M  27.0   176.0    59.0   \n",
       "22389  135571        Tomasz Ireneusz ya   M  30.0   185.0    96.0   \n",
       "22390  135571        Tomasz Ireneusz ya   M  34.0   185.0    96.0   \n",
       "\n",
       "                 Team  NOC        Games    Year  Season            City  \\\n",
       "0               China  CHN  1992 Summer  1992.0  Summer       Barcelona   \n",
       "1               China  CHN  2012 Summer  2012.0  Summer          London   \n",
       "2             Denmark  DEN  1920 Summer  1920.0  Summer       Antwerpen   \n",
       "3      Denmark/Sweden  DEN  1900 Summer  1900.0  Summer           Paris   \n",
       "4         Netherlands  NED  1988 Winter  1988.0  Winter         Calgary   \n",
       "...               ...  ...          ...     ...     ...             ...   \n",
       "22386        Poland-1  POL  1976 Winter  1976.0  Winter       Innsbruck   \n",
       "22387          Poland  POL  2014 Winter  2014.0  Winter           Sochi   \n",
       "22388          Poland  POL  2014 Winter  2014.0  Winter           Sochi   \n",
       "22389          Poland  POL  1998 Winter  1998.0  Winter          Nagano   \n",
       "22390          Poland  POL  2002 Winter  2002.0  Winter  Salt Lake City   \n",
       "\n",
       "               Sport                                     Event Medal  \n",
       "0         Basketball               Basketball Men's Basketball   NaN  \n",
       "1               Judo              Judo Men's Extra-Lightweight   NaN  \n",
       "2           Football                   Football Men's Football   NaN  \n",
       "3         Tug-Of-War               Tug-Of-War Men's Tug-Of-War  Gold  \n",
       "4      Speed Skating          Speed Skating Women's 500 metres   NaN  \n",
       "...              ...                                       ...   ...  \n",
       "22386           Luge                Luge Mixed (Men)'s Doubles   NaN  \n",
       "22387    Ski Jumping  Ski Jumping Men's Large Hill, Individual   NaN  \n",
       "22388    Ski Jumping        Ski Jumping Men's Large Hill, Team   NaN  \n",
       "22389      Bobsleigh                      Bobsleigh Men's Four   NaN  \n",
       "22390      Bobsleigh                      Bobsleigh Men's Four   NaN  \n",
       "\n",
       "[293632 rows x 15 columns]"
      ]
     },
     "execution_count": 3,
     "metadata": {},
     "output_type": "execute_result"
    }
   ],
   "source": [
    "df = all_in_one(\"/Users/ekaterinagrigorieva/Downloads/athlete_events\", \"csv\").sort_values(\"ID\")\n",
    "df"
   ]
  },
  {
   "cell_type": "markdown",
   "id": "9a490f5c",
   "metadata": {},
   "source": [
    "### Task 2\n",
    "Let us check the data."
   ]
  },
  {
   "cell_type": "markdown",
   "id": "98d9de8d",
   "metadata": {},
   "source": [
    "Firsly, let us drop duplcates if we have them"
   ]
  },
  {
   "cell_type": "code",
   "execution_count": 4,
   "id": "b3efa4d8",
   "metadata": {},
   "outputs": [
    {
     "data": {
      "text/html": [
       "<div>\n",
       "<style scoped>\n",
       "    .dataframe tbody tr th:only-of-type {\n",
       "        vertical-align: middle;\n",
       "    }\n",
       "\n",
       "    .dataframe tbody tr th {\n",
       "        vertical-align: top;\n",
       "    }\n",
       "\n",
       "    .dataframe thead th {\n",
       "        text-align: right;\n",
       "    }\n",
       "</style>\n",
       "<table border=\"1\" class=\"dataframe\">\n",
       "  <thead>\n",
       "    <tr style=\"text-align: right;\">\n",
       "      <th></th>\n",
       "      <th>ID</th>\n",
       "      <th>Name</th>\n",
       "      <th>Sex</th>\n",
       "      <th>Age</th>\n",
       "      <th>Height</th>\n",
       "      <th>Weight</th>\n",
       "      <th>Team</th>\n",
       "      <th>NOC</th>\n",
       "      <th>Games</th>\n",
       "      <th>Year</th>\n",
       "      <th>Season</th>\n",
       "      <th>City</th>\n",
       "      <th>Sport</th>\n",
       "      <th>Event</th>\n",
       "      <th>Medal</th>\n",
       "    </tr>\n",
       "  </thead>\n",
       "  <tbody>\n",
       "    <tr>\n",
       "      <th>0</th>\n",
       "      <td>1</td>\n",
       "      <td>A Dijiang</td>\n",
       "      <td>M</td>\n",
       "      <td>24.0</td>\n",
       "      <td>180.0</td>\n",
       "      <td>80.0</td>\n",
       "      <td>China</td>\n",
       "      <td>CHN</td>\n",
       "      <td>1992 Summer</td>\n",
       "      <td>1992.0</td>\n",
       "      <td>Summer</td>\n",
       "      <td>Barcelona</td>\n",
       "      <td>Basketball</td>\n",
       "      <td>Basketball Men's Basketball</td>\n",
       "      <td>NaN</td>\n",
       "    </tr>\n",
       "    <tr>\n",
       "      <th>1</th>\n",
       "      <td>2</td>\n",
       "      <td>A Lamusi</td>\n",
       "      <td>M</td>\n",
       "      <td>23.0</td>\n",
       "      <td>170.0</td>\n",
       "      <td>60.0</td>\n",
       "      <td>China</td>\n",
       "      <td>CHN</td>\n",
       "      <td>2012 Summer</td>\n",
       "      <td>2012.0</td>\n",
       "      <td>Summer</td>\n",
       "      <td>London</td>\n",
       "      <td>Judo</td>\n",
       "      <td>Judo Men's Extra-Lightweight</td>\n",
       "      <td>NaN</td>\n",
       "    </tr>\n",
       "    <tr>\n",
       "      <th>2</th>\n",
       "      <td>3</td>\n",
       "      <td>Gunnar Nielsen Aaby</td>\n",
       "      <td>M</td>\n",
       "      <td>24.0</td>\n",
       "      <td>NaN</td>\n",
       "      <td>NaN</td>\n",
       "      <td>Denmark</td>\n",
       "      <td>DEN</td>\n",
       "      <td>1920 Summer</td>\n",
       "      <td>1920.0</td>\n",
       "      <td>Summer</td>\n",
       "      <td>Antwerpen</td>\n",
       "      <td>Football</td>\n",
       "      <td>Football Men's Football</td>\n",
       "      <td>NaN</td>\n",
       "    </tr>\n",
       "    <tr>\n",
       "      <th>3</th>\n",
       "      <td>4</td>\n",
       "      <td>Edgar Lindenau Aabye</td>\n",
       "      <td>M</td>\n",
       "      <td>34.0</td>\n",
       "      <td>NaN</td>\n",
       "      <td>NaN</td>\n",
       "      <td>Denmark/Sweden</td>\n",
       "      <td>DEN</td>\n",
       "      <td>1900 Summer</td>\n",
       "      <td>1900.0</td>\n",
       "      <td>Summer</td>\n",
       "      <td>Paris</td>\n",
       "      <td>Tug-Of-War</td>\n",
       "      <td>Tug-Of-War Men's Tug-Of-War</td>\n",
       "      <td>Gold</td>\n",
       "    </tr>\n",
       "    <tr>\n",
       "      <th>4</th>\n",
       "      <td>5</td>\n",
       "      <td>Christine Jacoba Aaftink</td>\n",
       "      <td>F</td>\n",
       "      <td>21.0</td>\n",
       "      <td>185.0</td>\n",
       "      <td>82.0</td>\n",
       "      <td>Netherlands</td>\n",
       "      <td>NED</td>\n",
       "      <td>1988 Winter</td>\n",
       "      <td>1988.0</td>\n",
       "      <td>Winter</td>\n",
       "      <td>Calgary</td>\n",
       "      <td>Speed Skating</td>\n",
       "      <td>Speed Skating Women's 500 metres</td>\n",
       "      <td>NaN</td>\n",
       "    </tr>\n",
       "    <tr>\n",
       "      <th>...</th>\n",
       "      <td>...</td>\n",
       "      <td>...</td>\n",
       "      <td>...</td>\n",
       "      <td>...</td>\n",
       "      <td>...</td>\n",
       "      <td>...</td>\n",
       "      <td>...</td>\n",
       "      <td>...</td>\n",
       "      <td>...</td>\n",
       "      <td>...</td>\n",
       "      <td>...</td>\n",
       "      <td>...</td>\n",
       "      <td>...</td>\n",
       "      <td>...</td>\n",
       "      <td>...</td>\n",
       "    </tr>\n",
       "    <tr>\n",
       "      <th>22386</th>\n",
       "      <td>135569</td>\n",
       "      <td>Andrzej ya</td>\n",
       "      <td>M</td>\n",
       "      <td>29.0</td>\n",
       "      <td>179.0</td>\n",
       "      <td>89.0</td>\n",
       "      <td>Poland-1</td>\n",
       "      <td>POL</td>\n",
       "      <td>1976 Winter</td>\n",
       "      <td>1976.0</td>\n",
       "      <td>Winter</td>\n",
       "      <td>Innsbruck</td>\n",
       "      <td>Luge</td>\n",
       "      <td>Luge Mixed (Men)'s Doubles</td>\n",
       "      <td>NaN</td>\n",
       "    </tr>\n",
       "    <tr>\n",
       "      <th>22387</th>\n",
       "      <td>135570</td>\n",
       "      <td>Piotr ya</td>\n",
       "      <td>M</td>\n",
       "      <td>27.0</td>\n",
       "      <td>176.0</td>\n",
       "      <td>59.0</td>\n",
       "      <td>Poland</td>\n",
       "      <td>POL</td>\n",
       "      <td>2014 Winter</td>\n",
       "      <td>2014.0</td>\n",
       "      <td>Winter</td>\n",
       "      <td>Sochi</td>\n",
       "      <td>Ski Jumping</td>\n",
       "      <td>Ski Jumping Men's Large Hill, Individual</td>\n",
       "      <td>NaN</td>\n",
       "    </tr>\n",
       "    <tr>\n",
       "      <th>22388</th>\n",
       "      <td>135570</td>\n",
       "      <td>Piotr ya</td>\n",
       "      <td>M</td>\n",
       "      <td>27.0</td>\n",
       "      <td>176.0</td>\n",
       "      <td>59.0</td>\n",
       "      <td>Poland</td>\n",
       "      <td>POL</td>\n",
       "      <td>2014 Winter</td>\n",
       "      <td>2014.0</td>\n",
       "      <td>Winter</td>\n",
       "      <td>Sochi</td>\n",
       "      <td>Ski Jumping</td>\n",
       "      <td>Ski Jumping Men's Large Hill, Team</td>\n",
       "      <td>NaN</td>\n",
       "    </tr>\n",
       "    <tr>\n",
       "      <th>22389</th>\n",
       "      <td>135571</td>\n",
       "      <td>Tomasz Ireneusz ya</td>\n",
       "      <td>M</td>\n",
       "      <td>30.0</td>\n",
       "      <td>185.0</td>\n",
       "      <td>96.0</td>\n",
       "      <td>Poland</td>\n",
       "      <td>POL</td>\n",
       "      <td>1998 Winter</td>\n",
       "      <td>1998.0</td>\n",
       "      <td>Winter</td>\n",
       "      <td>Nagano</td>\n",
       "      <td>Bobsleigh</td>\n",
       "      <td>Bobsleigh Men's Four</td>\n",
       "      <td>NaN</td>\n",
       "    </tr>\n",
       "    <tr>\n",
       "      <th>22390</th>\n",
       "      <td>135571</td>\n",
       "      <td>Tomasz Ireneusz ya</td>\n",
       "      <td>M</td>\n",
       "      <td>34.0</td>\n",
       "      <td>185.0</td>\n",
       "      <td>96.0</td>\n",
       "      <td>Poland</td>\n",
       "      <td>POL</td>\n",
       "      <td>2002 Winter</td>\n",
       "      <td>2002.0</td>\n",
       "      <td>Winter</td>\n",
       "      <td>Salt Lake City</td>\n",
       "      <td>Bobsleigh</td>\n",
       "      <td>Bobsleigh Men's Four</td>\n",
       "      <td>NaN</td>\n",
       "    </tr>\n",
       "  </tbody>\n",
       "</table>\n",
       "<p>269730 rows × 15 columns</p>\n",
       "</div>"
      ],
      "text/plain": [
       "           ID                      Name Sex   Age  Height  Weight  \\\n",
       "0           1                 A Dijiang   M  24.0   180.0    80.0   \n",
       "1           2                  A Lamusi   M  23.0   170.0    60.0   \n",
       "2           3       Gunnar Nielsen Aaby   M  24.0     NaN     NaN   \n",
       "3           4      Edgar Lindenau Aabye   M  34.0     NaN     NaN   \n",
       "4           5  Christine Jacoba Aaftink   F  21.0   185.0    82.0   \n",
       "...       ...                       ...  ..   ...     ...     ...   \n",
       "22386  135569                Andrzej ya   M  29.0   179.0    89.0   \n",
       "22387  135570                  Piotr ya   M  27.0   176.0    59.0   \n",
       "22388  135570                  Piotr ya   M  27.0   176.0    59.0   \n",
       "22389  135571        Tomasz Ireneusz ya   M  30.0   185.0    96.0   \n",
       "22390  135571        Tomasz Ireneusz ya   M  34.0   185.0    96.0   \n",
       "\n",
       "                 Team  NOC        Games    Year  Season            City  \\\n",
       "0               China  CHN  1992 Summer  1992.0  Summer       Barcelona   \n",
       "1               China  CHN  2012 Summer  2012.0  Summer          London   \n",
       "2             Denmark  DEN  1920 Summer  1920.0  Summer       Antwerpen   \n",
       "3      Denmark/Sweden  DEN  1900 Summer  1900.0  Summer           Paris   \n",
       "4         Netherlands  NED  1988 Winter  1988.0  Winter         Calgary   \n",
       "...               ...  ...          ...     ...     ...             ...   \n",
       "22386        Poland-1  POL  1976 Winter  1976.0  Winter       Innsbruck   \n",
       "22387          Poland  POL  2014 Winter  2014.0  Winter           Sochi   \n",
       "22388          Poland  POL  2014 Winter  2014.0  Winter           Sochi   \n",
       "22389          Poland  POL  1998 Winter  1998.0  Winter          Nagano   \n",
       "22390          Poland  POL  2002 Winter  2002.0  Winter  Salt Lake City   \n",
       "\n",
       "               Sport                                     Event Medal  \n",
       "0         Basketball               Basketball Men's Basketball   NaN  \n",
       "1               Judo              Judo Men's Extra-Lightweight   NaN  \n",
       "2           Football                   Football Men's Football   NaN  \n",
       "3         Tug-Of-War               Tug-Of-War Men's Tug-Of-War  Gold  \n",
       "4      Speed Skating          Speed Skating Women's 500 metres   NaN  \n",
       "...              ...                                       ...   ...  \n",
       "22386           Luge                Luge Mixed (Men)'s Doubles   NaN  \n",
       "22387    Ski Jumping  Ski Jumping Men's Large Hill, Individual   NaN  \n",
       "22388    Ski Jumping        Ski Jumping Men's Large Hill, Team   NaN  \n",
       "22389      Bobsleigh                      Bobsleigh Men's Four   NaN  \n",
       "22390      Bobsleigh                      Bobsleigh Men's Four   NaN  \n",
       "\n",
       "[269730 rows x 15 columns]"
      ]
     },
     "execution_count": 4,
     "metadata": {},
     "output_type": "execute_result"
    }
   ],
   "source": [
    "df.drop_duplicates()"
   ]
  },
  {
   "cell_type": "code",
   "execution_count": 5,
   "id": "fe7aba08",
   "metadata": {},
   "outputs": [],
   "source": [
    "df = df.drop_duplicates()"
   ]
  },
  {
   "cell_type": "code",
   "execution_count": 6,
   "id": "33adbf04",
   "metadata": {},
   "outputs": [
    {
     "data": {
      "text/plain": [
       "array(['M', 'F', 'G', nan], dtype=object)"
      ]
     },
     "execution_count": 6,
     "metadata": {},
     "output_type": "execute_result"
    }
   ],
   "source": [
    "#checking Sex\n",
    "df[\"Sex\"].unique()"
   ]
  },
  {
   "cell_type": "code",
   "execution_count": 7,
   "id": "112120f0",
   "metadata": {},
   "outputs": [],
   "source": [
    "df = df.drop(df[df.Sex == \"G\"].index)"
   ]
  },
  {
   "cell_type": "code",
   "execution_count": 8,
   "id": "ad567bd2",
   "metadata": {},
   "outputs": [
    {
     "data": {
      "text/plain": [
       "array(['CHN', 'DEN', 'NED', 'USA', 'FIN', 'NOR', 'ROU', 'EST', 'FRA',\n",
       "       'MAR', 'ESP', 'EGY', 'IRI', 'BUL', 'ITA', 'CHA', 'AZE', 'SUD',\n",
       "       'RUS', 'ARG', 'CUB', 'BLR', 'GRE', 'CMR', 'TUR', 'CHI', 'MEX',\n",
       "       'URS', 'NCA', 'HUN', 'NGR', 'ALG', 'KUW', 'BRN', 'PAK', 'IRQ',\n",
       "       'UAR', 'LIB', 'QAT', 'MAS', 'GER', 'CAN', 'IRL', 'AUS', 'RSA',\n",
       "       'ERI', 'TAN', 'JOR', 'TUN', 'LBA', 'BEL', 'DJI', 'PLE', 'COM',\n",
       "       'KAZ', 'BRU', 'IND', 'KSA', 'SYR', 'MDV', 'ETH', 'UAE', 'YAR',\n",
       "       'INA', 'PHI', 'SGP', 'UZB', 'KGZ', 'TJK', 'EUN', 'JPN', 'CGO',\n",
       "       'SUI', 'BRA', 'FRG', 'GDR', 'MON', 'ISR', 'URU', 'SWE', 'ISV',\n",
       "       'SRI', 'ARM', 'CIV', 'KEN', 'BEN', 'UKR', 'GBR', 'GHA', 'SOM',\n",
       "       'LAT', 'NIG', 'MLI', 'AFG', 'POL', 'CRC', 'PAN', 'GEO', 'SLO',\n",
       "       'CRO', 'GUY', 'NZL', 'POR', 'PAR', 'ANG', 'VEN', 'COL', 'BAN',\n",
       "       'PER', 'ESA', 'PUR', 'UGA', 'HON', 'ECU', 'TKM', 'MRI', 'SEY',\n",
       "       'TCH', 'LUX', 'MTN', 'CZE', 'SKN', 'TTO', 'DOM', 'VIN', 'JAM',\n",
       "       'LBR', 'SUR', 'NEP', 'MGL', 'AUT', 'PLW', 'LTU', 'TOG', 'NAM',\n",
       "       'AHO', 'ISL', 'ASA', 'SAM', 'RWA', 'DMA', 'HAI', 'MLT', 'CYP',\n",
       "       'GUI', 'BIZ', 'YMD', 'KOR', 'THA', 'BER', 'ANZ', 'SCG', 'SLE',\n",
       "       'PNG', 'YEM', 'IOA', 'OMA', 'FIJ', 'VAN', 'MDA', 'YUG', 'BAH',\n",
       "       'GUA', 'SRB', 'IVB', 'MOZ', 'CAF', 'MAD', 'MAL', 'BIH', 'GUM',\n",
       "       'CAY', 'SVK', 'BAR', 'GBS', 'TLS', 'COD', 'GAB', 'SMR', 'LAO',\n",
       "       'BOT', 'ROT', 'CAM', 'PRK', 'SOL', 'SEN', 'CPV', 'CRT', 'GEQ',\n",
       "       'BOL', 'SAA', 'AND', 'ANT', 'ZIM', 'GRN', 'HKG', 'LCA', 'FSM',\n",
       "       'MYA', 'MAW', 'ZAM', 'RHO', 'TPE', 'STP', 'MKD', 'BOH', 'TGA',\n",
       "       'LIE', 'MNE', 'GAM', 'COK', 'ALB', 'WIF', 'SWZ', 'BUR', 'NBO',\n",
       "       'BDI', 'ARU', 'NRU', 'VNM', 'VIE', 'BHU', 'MHL', 'KIR', 'UNK',\n",
       "       'TUV', nan, 'NFL', 'KOS', 'JP', 'SSD', 'LES'], dtype=object)"
      ]
     },
     "execution_count": 8,
     "metadata": {},
     "output_type": "execute_result"
    }
   ],
   "source": [
    "#checking NOC\n",
    "df['NOC'].unique()"
   ]
  },
  {
   "cell_type": "markdown",
   "id": "f2e5fa80",
   "metadata": {},
   "source": [
    "Looks like \"JP\" is Japan and it should be \"JPN\". Let us check"
   ]
  },
  {
   "cell_type": "code",
   "execution_count": 9,
   "id": "391ed922",
   "metadata": {},
   "outputs": [
    {
     "data": {
      "text/html": [
       "<div>\n",
       "<style scoped>\n",
       "    .dataframe tbody tr th:only-of-type {\n",
       "        vertical-align: middle;\n",
       "    }\n",
       "\n",
       "    .dataframe tbody tr th {\n",
       "        vertical-align: top;\n",
       "    }\n",
       "\n",
       "    .dataframe thead th {\n",
       "        text-align: right;\n",
       "    }\n",
       "</style>\n",
       "<table border=\"1\" class=\"dataframe\">\n",
       "  <thead>\n",
       "    <tr style=\"text-align: right;\">\n",
       "      <th></th>\n",
       "      <th>ID</th>\n",
       "      <th>Name</th>\n",
       "      <th>Sex</th>\n",
       "      <th>Age</th>\n",
       "      <th>Height</th>\n",
       "      <th>Weight</th>\n",
       "      <th>Team</th>\n",
       "      <th>NOC</th>\n",
       "      <th>Games</th>\n",
       "      <th>Year</th>\n",
       "      <th>Season</th>\n",
       "      <th>City</th>\n",
       "      <th>Sport</th>\n",
       "      <th>Event</th>\n",
       "      <th>Medal</th>\n",
       "    </tr>\n",
       "  </thead>\n",
       "  <tbody>\n",
       "    <tr>\n",
       "      <th>22659</th>\n",
       "      <td>45919</td>\n",
       "      <td>Yuka Harada</td>\n",
       "      <td>F</td>\n",
       "      <td>28.0</td>\n",
       "      <td>170.0</td>\n",
       "      <td>60.0</td>\n",
       "      <td>Japan</td>\n",
       "      <td>JP</td>\n",
       "      <td>NaN</td>\n",
       "      <td>NaN</td>\n",
       "      <td>NaN</td>\n",
       "      <td>NaN</td>\n",
       "      <td>NaN</td>\n",
       "      <td>NaN</td>\n",
       "      <td>NaN</td>\n",
       "    </tr>\n",
       "  </tbody>\n",
       "</table>\n",
       "</div>"
      ],
      "text/plain": [
       "          ID         Name Sex   Age  Height  Weight   Team NOC Games  Year  \\\n",
       "22659  45919  Yuka Harada   F  28.0   170.0    60.0  Japan  JP   NaN   NaN   \n",
       "\n",
       "      Season City Sport Event Medal  \n",
       "22659    NaN  NaN   NaN   NaN   NaN  "
      ]
     },
     "execution_count": 9,
     "metadata": {},
     "output_type": "execute_result"
    }
   ],
   "source": [
    "df[(df['NOC'] == \"JP\")]"
   ]
  },
  {
   "cell_type": "markdown",
   "id": "bcf8b858",
   "metadata": {},
   "source": [
    "Renaming the NOC"
   ]
  },
  {
   "cell_type": "code",
   "execution_count": 10,
   "id": "12b2de15",
   "metadata": {},
   "outputs": [],
   "source": [
    "df = df.replace(\"JP\", \"JPN\")"
   ]
  },
  {
   "cell_type": "code",
   "execution_count": 11,
   "id": "59f0b6a6",
   "metadata": {},
   "outputs": [
    {
     "data": {
      "text/html": [
       "<div>\n",
       "<style scoped>\n",
       "    .dataframe tbody tr th:only-of-type {\n",
       "        vertical-align: middle;\n",
       "    }\n",
       "\n",
       "    .dataframe tbody tr th {\n",
       "        vertical-align: top;\n",
       "    }\n",
       "\n",
       "    .dataframe thead th {\n",
       "        text-align: right;\n",
       "    }\n",
       "</style>\n",
       "<table border=\"1\" class=\"dataframe\">\n",
       "  <thead>\n",
       "    <tr style=\"text-align: right;\">\n",
       "      <th></th>\n",
       "      <th>ID</th>\n",
       "      <th>Name</th>\n",
       "      <th>Sex</th>\n",
       "      <th>Age</th>\n",
       "      <th>Height</th>\n",
       "      <th>Weight</th>\n",
       "      <th>Team</th>\n",
       "      <th>NOC</th>\n",
       "      <th>Games</th>\n",
       "      <th>Year</th>\n",
       "      <th>Season</th>\n",
       "      <th>City</th>\n",
       "      <th>Sport</th>\n",
       "      <th>Event</th>\n",
       "      <th>Medal</th>\n",
       "    </tr>\n",
       "  </thead>\n",
       "  <tbody>\n",
       "  </tbody>\n",
       "</table>\n",
       "</div>"
      ],
      "text/plain": [
       "Empty DataFrame\n",
       "Columns: [ID, Name, Sex, Age, Height, Weight, Team, NOC, Games, Year, Season, City, Sport, Event, Medal]\n",
       "Index: []"
      ]
     },
     "execution_count": 11,
     "metadata": {},
     "output_type": "execute_result"
    }
   ],
   "source": [
    "df[(df['NOC'] == \"JP\")]"
   ]
  },
  {
   "cell_type": "code",
   "execution_count": 12,
   "id": "fe810a19",
   "metadata": {},
   "outputs": [
    {
     "data": {
      "text/plain": [
       "269706"
      ]
     },
     "execution_count": 12,
     "metadata": {},
     "output_type": "execute_result"
    }
   ],
   "source": [
    "len(df)"
   ]
  },
  {
   "cell_type": "code",
   "execution_count": 13,
   "id": "a5f02c43",
   "metadata": {},
   "outputs": [
    {
     "name": "stdout",
     "output_type": "stream",
     "text": [
      "<class 'pandas.core.frame.DataFrame'>\n",
      "Int64Index: 269706 entries, 0 to 22390\n",
      "Data columns (total 15 columns):\n",
      " #   Column  Non-Null Count   Dtype  \n",
      "---  ------  --------------   -----  \n",
      " 0   ID      269706 non-null  int64  \n",
      " 1   Name    269705 non-null  object \n",
      " 2   Sex     269704 non-null  object \n",
      " 3   Age     260390 non-null  float64\n",
      " 4   Height  210898 non-null  float64\n",
      " 5   Weight  208185 non-null  float64\n",
      " 6   Team    269703 non-null  object \n",
      " 7   NOC     269702 non-null  object \n",
      " 8   Games   269701 non-null  object \n",
      " 9   Year    269699 non-null  float64\n",
      " 10  Season  269699 non-null  object \n",
      " 11  City    269699 non-null  object \n",
      " 12  Sport   269699 non-null  object \n",
      " 13  Event   269698 non-null  object \n",
      " 14  Medal   39765 non-null   object \n",
      "dtypes: float64(4), int64(1), object(10)\n",
      "memory usage: 32.9+ MB\n",
      "None\n"
     ]
    }
   ],
   "source": [
    "print(df.info())"
   ]
  },
  {
   "cell_type": "markdown",
   "id": "212ef1b6",
   "metadata": {},
   "source": [
    "So, missing values are mostly located in Age, Height and Weight columns (for Medals it's OK)"
   ]
  },
  {
   "cell_type": "code",
   "execution_count": 14,
   "id": "dc69ab3e",
   "metadata": {},
   "outputs": [
    {
     "data": {
      "text/plain": [
       "array([ 24.,  23.,  34.,  21.,  25.,  27.,  33.,  31.,  18.,  26.,  22.,\n",
       "        30.,  32.,  28.,  54.,  20.,  17.,  43.,  47.,  29.,  41.,  53.,\n",
       "        49.,  57.,  45.,  nan,  19.,  38.,  35.,  16.,  37.,  15.,  42.,\n",
       "        46.,  40.,  36.,  14.,  39.,  48.,  52.,  44.,  55.,  50.,  71.,\n",
       "        63.,  51.,  58.,  13.,  60.,  75.,  65.,  56.,  84.,  68.,  64.,\n",
       "        12.,  72.,  59.,  61.,  74.,  70.,  62.,  67.,  69.,  73.,  66.,\n",
       "        11., 240.,  76.,  88.,  96.,  80.,  10.,  81.,  77.,  97.])"
      ]
     },
     "execution_count": 14,
     "metadata": {},
     "output_type": "execute_result"
    }
   ],
   "source": [
    "#checking for int only\n",
    "df[\"Age\"].unique() #OK"
   ]
  },
  {
   "cell_type": "code",
   "execution_count": 15,
   "id": "45a70ca5",
   "metadata": {},
   "outputs": [
    {
     "data": {
      "text/plain": [
       "array([1992., 2012., 1920., 1900., 1988., 1994., 1932., 2002., 1952.,\n",
       "       1980., 2000., 1996., 1912., 1924., 2014., 1948., 1998., 2006.,\n",
       "       2008., 2016., 2004., 1964., 1960., 1984., 1968., 1972., 1936.,\n",
       "       1956., 1928., 1976., 2010., 1906., 1904., 1908., 1896.,   nan])"
      ]
     },
     "execution_count": 15,
     "metadata": {},
     "output_type": "execute_result"
    }
   ],
   "source": [
    "#checking for int only\n",
    "df[\"Year\"].unique() #OK"
   ]
  },
  {
   "cell_type": "code",
   "execution_count": 16,
   "id": "898bf29b",
   "metadata": {},
   "outputs": [
    {
     "data": {
      "text/plain": [
       "array(['Summer', 'Winter', nan], dtype=object)"
      ]
     },
     "execution_count": 16,
     "metadata": {},
     "output_type": "execute_result"
    }
   ],
   "source": [
    "#checking Season\n",
    "df[\"Season\"].unique() #OK"
   ]
  },
  {
   "cell_type": "code",
   "execution_count": 17,
   "id": "f86019ba",
   "metadata": {},
   "outputs": [
    {
     "data": {
      "text/html": [
       "<div>\n",
       "<style scoped>\n",
       "    .dataframe tbody tr th:only-of-type {\n",
       "        vertical-align: middle;\n",
       "    }\n",
       "\n",
       "    .dataframe tbody tr th {\n",
       "        vertical-align: top;\n",
       "    }\n",
       "\n",
       "    .dataframe thead th {\n",
       "        text-align: right;\n",
       "    }\n",
       "</style>\n",
       "<table border=\"1\" class=\"dataframe\">\n",
       "  <thead>\n",
       "    <tr style=\"text-align: right;\">\n",
       "      <th></th>\n",
       "      <th>ID</th>\n",
       "      <th>Name</th>\n",
       "      <th>Sex</th>\n",
       "      <th>Age</th>\n",
       "      <th>Height</th>\n",
       "      <th>Weight</th>\n",
       "      <th>Team</th>\n",
       "      <th>NOC</th>\n",
       "      <th>Games</th>\n",
       "      <th>Year</th>\n",
       "      <th>Season</th>\n",
       "      <th>City</th>\n",
       "      <th>Sport</th>\n",
       "      <th>Event</th>\n",
       "      <th>Medal</th>\n",
       "    </tr>\n",
       "  </thead>\n",
       "  <tbody>\n",
       "    <tr>\n",
       "      <th>0</th>\n",
       "      <td>1</td>\n",
       "      <td>A Dijiang</td>\n",
       "      <td>M</td>\n",
       "      <td>24.0</td>\n",
       "      <td>180.0</td>\n",
       "      <td>80.0</td>\n",
       "      <td>China</td>\n",
       "      <td>CHN</td>\n",
       "      <td>1992 Summer</td>\n",
       "      <td>1992.0</td>\n",
       "      <td>Summer</td>\n",
       "      <td>Barcelona</td>\n",
       "      <td>Basketball</td>\n",
       "      <td>Basketball Men's Basketball</td>\n",
       "      <td>NaN</td>\n",
       "    </tr>\n",
       "    <tr>\n",
       "      <th>1</th>\n",
       "      <td>2</td>\n",
       "      <td>A Lamusi</td>\n",
       "      <td>M</td>\n",
       "      <td>23.0</td>\n",
       "      <td>170.0</td>\n",
       "      <td>60.0</td>\n",
       "      <td>China</td>\n",
       "      <td>CHN</td>\n",
       "      <td>2012 Summer</td>\n",
       "      <td>2012.0</td>\n",
       "      <td>Summer</td>\n",
       "      <td>London</td>\n",
       "      <td>Judo</td>\n",
       "      <td>Judo Men's Extra-Lightweight</td>\n",
       "      <td>NaN</td>\n",
       "    </tr>\n",
       "    <tr>\n",
       "      <th>2</th>\n",
       "      <td>3</td>\n",
       "      <td>Gunnar Nielsen Aaby</td>\n",
       "      <td>M</td>\n",
       "      <td>24.0</td>\n",
       "      <td>NaN</td>\n",
       "      <td>NaN</td>\n",
       "      <td>Denmark</td>\n",
       "      <td>DEN</td>\n",
       "      <td>1920 Summer</td>\n",
       "      <td>1920.0</td>\n",
       "      <td>Summer</td>\n",
       "      <td>Antwerpen</td>\n",
       "      <td>Football</td>\n",
       "      <td>Football Men's Football</td>\n",
       "      <td>NaN</td>\n",
       "    </tr>\n",
       "    <tr>\n",
       "      <th>3</th>\n",
       "      <td>4</td>\n",
       "      <td>Edgar Lindenau Aabye</td>\n",
       "      <td>M</td>\n",
       "      <td>34.0</td>\n",
       "      <td>NaN</td>\n",
       "      <td>NaN</td>\n",
       "      <td>Denmark/Sweden</td>\n",
       "      <td>DEN</td>\n",
       "      <td>1900 Summer</td>\n",
       "      <td>1900.0</td>\n",
       "      <td>Summer</td>\n",
       "      <td>Paris</td>\n",
       "      <td>Tug-Of-War</td>\n",
       "      <td>Tug-Of-War Men's Tug-Of-War</td>\n",
       "      <td>Gold</td>\n",
       "    </tr>\n",
       "    <tr>\n",
       "      <th>4</th>\n",
       "      <td>5</td>\n",
       "      <td>Christine Jacoba Aaftink</td>\n",
       "      <td>F</td>\n",
       "      <td>21.0</td>\n",
       "      <td>185.0</td>\n",
       "      <td>82.0</td>\n",
       "      <td>Netherlands</td>\n",
       "      <td>NED</td>\n",
       "      <td>1988 Winter</td>\n",
       "      <td>1988.0</td>\n",
       "      <td>Winter</td>\n",
       "      <td>Calgary</td>\n",
       "      <td>Speed Skating</td>\n",
       "      <td>Speed Skating Women's 500 metres</td>\n",
       "      <td>NaN</td>\n",
       "    </tr>\n",
       "    <tr>\n",
       "      <th>...</th>\n",
       "      <td>...</td>\n",
       "      <td>...</td>\n",
       "      <td>...</td>\n",
       "      <td>...</td>\n",
       "      <td>...</td>\n",
       "      <td>...</td>\n",
       "      <td>...</td>\n",
       "      <td>...</td>\n",
       "      <td>...</td>\n",
       "      <td>...</td>\n",
       "      <td>...</td>\n",
       "      <td>...</td>\n",
       "      <td>...</td>\n",
       "      <td>...</td>\n",
       "      <td>...</td>\n",
       "    </tr>\n",
       "    <tr>\n",
       "      <th>22386</th>\n",
       "      <td>135569</td>\n",
       "      <td>Andrzej ya</td>\n",
       "      <td>M</td>\n",
       "      <td>29.0</td>\n",
       "      <td>179.0</td>\n",
       "      <td>89.0</td>\n",
       "      <td>Poland-1</td>\n",
       "      <td>POL</td>\n",
       "      <td>1976 Winter</td>\n",
       "      <td>1976.0</td>\n",
       "      <td>Winter</td>\n",
       "      <td>Innsbruck</td>\n",
       "      <td>Luge</td>\n",
       "      <td>Luge Mixed (Men)'s Doubles</td>\n",
       "      <td>NaN</td>\n",
       "    </tr>\n",
       "    <tr>\n",
       "      <th>22387</th>\n",
       "      <td>135570</td>\n",
       "      <td>Piotr ya</td>\n",
       "      <td>M</td>\n",
       "      <td>27.0</td>\n",
       "      <td>176.0</td>\n",
       "      <td>59.0</td>\n",
       "      <td>Poland</td>\n",
       "      <td>POL</td>\n",
       "      <td>2014 Winter</td>\n",
       "      <td>2014.0</td>\n",
       "      <td>Winter</td>\n",
       "      <td>Sochi</td>\n",
       "      <td>Ski Jumping</td>\n",
       "      <td>Ski Jumping Men's Large Hill, Individual</td>\n",
       "      <td>NaN</td>\n",
       "    </tr>\n",
       "    <tr>\n",
       "      <th>22388</th>\n",
       "      <td>135570</td>\n",
       "      <td>Piotr ya</td>\n",
       "      <td>M</td>\n",
       "      <td>27.0</td>\n",
       "      <td>176.0</td>\n",
       "      <td>59.0</td>\n",
       "      <td>Poland</td>\n",
       "      <td>POL</td>\n",
       "      <td>2014 Winter</td>\n",
       "      <td>2014.0</td>\n",
       "      <td>Winter</td>\n",
       "      <td>Sochi</td>\n",
       "      <td>Ski Jumping</td>\n",
       "      <td>Ski Jumping Men's Large Hill, Team</td>\n",
       "      <td>NaN</td>\n",
       "    </tr>\n",
       "    <tr>\n",
       "      <th>22389</th>\n",
       "      <td>135571</td>\n",
       "      <td>Tomasz Ireneusz ya</td>\n",
       "      <td>M</td>\n",
       "      <td>30.0</td>\n",
       "      <td>185.0</td>\n",
       "      <td>96.0</td>\n",
       "      <td>Poland</td>\n",
       "      <td>POL</td>\n",
       "      <td>1998 Winter</td>\n",
       "      <td>1998.0</td>\n",
       "      <td>Winter</td>\n",
       "      <td>Nagano</td>\n",
       "      <td>Bobsleigh</td>\n",
       "      <td>Bobsleigh Men's Four</td>\n",
       "      <td>NaN</td>\n",
       "    </tr>\n",
       "    <tr>\n",
       "      <th>22390</th>\n",
       "      <td>135571</td>\n",
       "      <td>Tomasz Ireneusz ya</td>\n",
       "      <td>M</td>\n",
       "      <td>34.0</td>\n",
       "      <td>185.0</td>\n",
       "      <td>96.0</td>\n",
       "      <td>Poland</td>\n",
       "      <td>POL</td>\n",
       "      <td>2002 Winter</td>\n",
       "      <td>2002.0</td>\n",
       "      <td>Winter</td>\n",
       "      <td>Salt Lake City</td>\n",
       "      <td>Bobsleigh</td>\n",
       "      <td>Bobsleigh Men's Four</td>\n",
       "      <td>NaN</td>\n",
       "    </tr>\n",
       "  </tbody>\n",
       "</table>\n",
       "<p>269706 rows × 15 columns</p>\n",
       "</div>"
      ],
      "text/plain": [
       "           ID                      Name Sex   Age  Height  Weight  \\\n",
       "0           1                 A Dijiang   M  24.0   180.0    80.0   \n",
       "1           2                  A Lamusi   M  23.0   170.0    60.0   \n",
       "2           3       Gunnar Nielsen Aaby   M  24.0     NaN     NaN   \n",
       "3           4      Edgar Lindenau Aabye   M  34.0     NaN     NaN   \n",
       "4           5  Christine Jacoba Aaftink   F  21.0   185.0    82.0   \n",
       "...       ...                       ...  ..   ...     ...     ...   \n",
       "22386  135569                Andrzej ya   M  29.0   179.0    89.0   \n",
       "22387  135570                  Piotr ya   M  27.0   176.0    59.0   \n",
       "22388  135570                  Piotr ya   M  27.0   176.0    59.0   \n",
       "22389  135571        Tomasz Ireneusz ya   M  30.0   185.0    96.0   \n",
       "22390  135571        Tomasz Ireneusz ya   M  34.0   185.0    96.0   \n",
       "\n",
       "                 Team  NOC        Games    Year  Season            City  \\\n",
       "0               China  CHN  1992 Summer  1992.0  Summer       Barcelona   \n",
       "1               China  CHN  2012 Summer  2012.0  Summer          London   \n",
       "2             Denmark  DEN  1920 Summer  1920.0  Summer       Antwerpen   \n",
       "3      Denmark/Sweden  DEN  1900 Summer  1900.0  Summer           Paris   \n",
       "4         Netherlands  NED  1988 Winter  1988.0  Winter         Calgary   \n",
       "...               ...  ...          ...     ...     ...             ...   \n",
       "22386        Poland-1  POL  1976 Winter  1976.0  Winter       Innsbruck   \n",
       "22387          Poland  POL  2014 Winter  2014.0  Winter           Sochi   \n",
       "22388          Poland  POL  2014 Winter  2014.0  Winter           Sochi   \n",
       "22389          Poland  POL  1998 Winter  1998.0  Winter          Nagano   \n",
       "22390          Poland  POL  2002 Winter  2002.0  Winter  Salt Lake City   \n",
       "\n",
       "               Sport                                     Event Medal  \n",
       "0         Basketball               Basketball Men's Basketball   NaN  \n",
       "1               Judo              Judo Men's Extra-Lightweight   NaN  \n",
       "2           Football                   Football Men's Football   NaN  \n",
       "3         Tug-Of-War               Tug-Of-War Men's Tug-Of-War  Gold  \n",
       "4      Speed Skating          Speed Skating Women's 500 metres   NaN  \n",
       "...              ...                                       ...   ...  \n",
       "22386           Luge                Luge Mixed (Men)'s Doubles   NaN  \n",
       "22387    Ski Jumping  Ski Jumping Men's Large Hill, Individual   NaN  \n",
       "22388    Ski Jumping        Ski Jumping Men's Large Hill, Team   NaN  \n",
       "22389      Bobsleigh                      Bobsleigh Men's Four   NaN  \n",
       "22390      Bobsleigh                      Bobsleigh Men's Four   NaN  \n",
       "\n",
       "[269706 rows x 15 columns]"
      ]
     },
     "execution_count": 17,
     "metadata": {},
     "output_type": "execute_result"
    }
   ],
   "source": [
    "#let us check ID column for NaN because in this case we are not sure about participants\n",
    "df = df.dropna(subset=\"ID\")\n",
    "df"
   ]
  },
  {
   "cell_type": "markdown",
   "id": "80d213b2",
   "metadata": {},
   "source": [
    "Nothing changed, so IDs have no Nans."
   ]
  },
  {
   "cell_type": "markdown",
   "id": "1d78092c",
   "metadata": {},
   "source": [
    "Basic statistic"
   ]
  },
  {
   "cell_type": "code",
   "execution_count": 18,
   "id": "45b0ad17",
   "metadata": {},
   "outputs": [
    {
     "name": "stdout",
     "output_type": "stream",
     "text": [
      "                  ID            Age         Height         Weight  \\\n",
      "count  269706.000000  260390.000000  210898.000000  208185.000000   \n",
      "mean    68265.310516      25.455474     175.339301      70.701030   \n",
      "std     39026.238628       6.178283      10.524789      14.349951   \n",
      "min         1.000000      10.000000     127.000000       7.000000   \n",
      "25%     34655.250000      21.000000     168.000000      60.000000   \n",
      "50%     68233.000000      24.000000     175.000000      70.000000   \n",
      "75%    102111.000000      28.000000     183.000000      79.000000   \n",
      "max    135571.000000     240.000000     340.000000     214.000000   \n",
      "\n",
      "                Year  \n",
      "count  269699.000000  \n",
      "mean     1978.622939  \n",
      "std        29.751855  \n",
      "min      1896.000000  \n",
      "25%      1960.000000  \n",
      "50%      1988.000000  \n",
      "75%      2002.000000  \n",
      "max      2016.000000  \n"
     ]
    }
   ],
   "source": [
    "print(df.describe())"
   ]
  },
  {
   "cell_type": "markdown",
   "id": "302e40d8",
   "metadata": {},
   "source": [
    "Here we have some strange values like max age, max height, let us find them. Let us look at histplots"
   ]
  },
  {
   "cell_type": "code",
   "execution_count": 19,
   "id": "a264a004",
   "metadata": {},
   "outputs": [
    {
     "data": {
      "text/plain": [
       "(array([1.0740e+03, 3.1225e+04, 7.7074e+04, 8.9085e+04, 3.4673e+04,\n",
       "        1.6252e+04, 5.8850e+03, 2.3590e+03, 1.4670e+03, 5.9500e+02,\n",
       "        3.7700e+02, 1.7900e+02, 7.2000e+01, 5.8000e+01, 7.0000e+00,\n",
       "        3.0000e+00, 2.0000e+00, 0.0000e+00, 2.0000e+00, 0.0000e+00,\n",
       "        0.0000e+00, 0.0000e+00, 0.0000e+00, 0.0000e+00, 0.0000e+00,\n",
       "        0.0000e+00, 0.0000e+00, 0.0000e+00, 0.0000e+00, 0.0000e+00,\n",
       "        0.0000e+00, 0.0000e+00, 0.0000e+00, 0.0000e+00, 0.0000e+00,\n",
       "        0.0000e+00, 0.0000e+00, 0.0000e+00, 0.0000e+00, 0.0000e+00,\n",
       "        0.0000e+00, 0.0000e+00, 0.0000e+00, 0.0000e+00, 0.0000e+00,\n",
       "        0.0000e+00, 0.0000e+00, 0.0000e+00, 0.0000e+00, 1.0000e+00]),\n",
       " array([ 10. ,  14.6,  19.2,  23.8,  28.4,  33. ,  37.6,  42.2,  46.8,\n",
       "         51.4,  56. ,  60.6,  65.2,  69.8,  74.4,  79. ,  83.6,  88.2,\n",
       "         92.8,  97.4, 102. , 106.6, 111.2, 115.8, 120.4, 125. , 129.6,\n",
       "        134.2, 138.8, 143.4, 148. , 152.6, 157.2, 161.8, 166.4, 171. ,\n",
       "        175.6, 180.2, 184.8, 189.4, 194. , 198.6, 203.2, 207.8, 212.4,\n",
       "        217. , 221.6, 226.2, 230.8, 235.4, 240. ]),\n",
       " <BarContainer object of 50 artists>)"
      ]
     },
     "execution_count": 19,
     "metadata": {},
     "output_type": "execute_result"
    },
    {
     "data": {
      "image/png": "[encoded data removed]",
      "text/plain": [
       "<Figure size 640x480 with 1 Axes>"
      ]
     },
     "metadata": {},
     "output_type": "display_data"
    }
   ],
   "source": [
    "plt.hist(df['Age'], bins = 50)"
   ]
  },
  {
   "cell_type": "markdown",
   "id": "bea7372e",
   "metadata": {},
   "source": [
    "Max value is an outlier, so we need to delete it"
   ]
  },
  {
   "cell_type": "code",
   "execution_count": 20,
   "id": "d1516a34",
   "metadata": {},
   "outputs": [
    {
     "data": {
      "text/plain": [
       "(array([1.4000e+01, 2.2600e+02, 3.0360e+03, 3.8510e+03, 1.3527e+04,\n",
       "        2.6894e+04, 3.9961e+04, 2.1860e+04, 4.1395e+04, 3.3658e+04,\n",
       "        2.5454e+04, 9.4740e+03, 1.3771e+04, 8.7420e+03, 5.5980e+03,\n",
       "        1.9120e+03, 2.9530e+03, 2.1080e+03, 1.5770e+03, 6.5700e+02,\n",
       "        9.4900e+02, 7.3100e+02, 5.5500e+02, 1.8100e+02, 3.7200e+02,\n",
       "        2.2300e+02, 1.0900e+02, 1.3000e+02, 1.3800e+02, 8.3000e+01,\n",
       "        4.2000e+01, 5.4000e+01, 4.4000e+01, 2.8000e+01, 1.1000e+01,\n",
       "        3.7000e+01, 1.0000e+01, 6.0000e+00, 1.0000e+00, 0.0000e+00,\n",
       "        3.0000e+00, 0.0000e+00, 1.0000e+00, 0.0000e+00, 1.0000e+00,\n",
       "        0.0000e+00, 0.0000e+00, 0.0000e+00, 0.0000e+00, 2.0000e+00]),\n",
       " array([10.  , 11.74, 13.48, 15.22, 16.96, 18.7 , 20.44, 22.18, 23.92,\n",
       "        25.66, 27.4 , 29.14, 30.88, 32.62, 34.36, 36.1 , 37.84, 39.58,\n",
       "        41.32, 43.06, 44.8 , 46.54, 48.28, 50.02, 51.76, 53.5 , 55.24,\n",
       "        56.98, 58.72, 60.46, 62.2 , 63.94, 65.68, 67.42, 69.16, 70.9 ,\n",
       "        72.64, 74.38, 76.12, 77.86, 79.6 , 81.34, 83.08, 84.82, 86.56,\n",
       "        88.3 , 90.04, 91.78, 93.52, 95.26, 97.  ]),\n",
       " <BarContainer object of 50 artists>)"
      ]
     },
     "execution_count": 20,
     "metadata": {},
     "output_type": "execute_result"
    },
    {
     "data": {
      "image/png": "[encoded data removed]",
      "text/plain": [
       "<Figure size 640x480 with 1 Axes>"
      ]
     },
     "metadata": {},
     "output_type": "display_data"
    }
   ],
   "source": [
    "df = df.drop(df[df.Age == 240].index)\n",
    "plt.hist(df['Age'], bins = 50)"
   ]
  },
  {
   "cell_type": "markdown",
   "id": "a04f2a40",
   "metadata": {},
   "source": [
    "So now we have real ages between 0 and 100. Let us check max values"
   ]
  },
  {
   "cell_type": "code",
   "execution_count": 21,
   "id": "82730d07",
   "metadata": {},
   "outputs": [
    {
     "data": {
      "text/html": [
       "<div>\n",
       "<style scoped>\n",
       "    .dataframe tbody tr th:only-of-type {\n",
       "        vertical-align: middle;\n",
       "    }\n",
       "\n",
       "    .dataframe tbody tr th {\n",
       "        vertical-align: top;\n",
       "    }\n",
       "\n",
       "    .dataframe thead th {\n",
       "        text-align: right;\n",
       "    }\n",
       "</style>\n",
       "<table border=\"1\" class=\"dataframe\">\n",
       "  <thead>\n",
       "    <tr style=\"text-align: right;\">\n",
       "      <th></th>\n",
       "      <th>ID</th>\n",
       "      <th>Name</th>\n",
       "      <th>Sex</th>\n",
       "      <th>Age</th>\n",
       "      <th>Height</th>\n",
       "      <th>Weight</th>\n",
       "      <th>Team</th>\n",
       "      <th>NOC</th>\n",
       "      <th>Games</th>\n",
       "      <th>Year</th>\n",
       "      <th>Season</th>\n",
       "      <th>City</th>\n",
       "      <th>Sport</th>\n",
       "      <th>Event</th>\n",
       "      <th>Medal</th>\n",
       "    </tr>\n",
       "  </thead>\n",
       "  <tbody>\n",
       "    <tr>\n",
       "      <th>8329</th>\n",
       "      <td>128719</td>\n",
       "      <td>John Quincy Adams Ward</td>\n",
       "      <td>M</td>\n",
       "      <td>97.0</td>\n",
       "      <td>NaN</td>\n",
       "      <td>NaN</td>\n",
       "      <td>United States</td>\n",
       "      <td>USA</td>\n",
       "      <td>1928 Summer</td>\n",
       "      <td>1928.0</td>\n",
       "      <td>Summer</td>\n",
       "      <td>Amsterdam</td>\n",
       "      <td>Art Competitions</td>\n",
       "      <td>Art Competitions Mixed Sculpturing, Statues</td>\n",
       "      <td>NaN</td>\n",
       "    </tr>\n",
       "    <tr>\n",
       "      <th>7477</th>\n",
       "      <td>49663</td>\n",
       "      <td>Winslow Homer</td>\n",
       "      <td>M</td>\n",
       "      <td>96.0</td>\n",
       "      <td>NaN</td>\n",
       "      <td>NaN</td>\n",
       "      <td>United States</td>\n",
       "      <td>USA</td>\n",
       "      <td>1932 Summer</td>\n",
       "      <td>1932.0</td>\n",
       "      <td>Summer</td>\n",
       "      <td>Los Angeles</td>\n",
       "      <td>Art Competitions</td>\n",
       "      <td>Art Competitions Mixed Painting, Unknown Event</td>\n",
       "      <td>NaN</td>\n",
       "    </tr>\n",
       "    <tr>\n",
       "      <th>15439</th>\n",
       "      <td>31173</td>\n",
       "      <td>Thomas Cowperthwait Eakins</td>\n",
       "      <td>M</td>\n",
       "      <td>88.0</td>\n",
       "      <td>NaN</td>\n",
       "      <td>NaN</td>\n",
       "      <td>United States</td>\n",
       "      <td>USA</td>\n",
       "      <td>1932 Summer</td>\n",
       "      <td>1932.0</td>\n",
       "      <td>Summer</td>\n",
       "      <td>Los Angeles</td>\n",
       "      <td>Art Competitions</td>\n",
       "      <td>Art Competitions Mixed Painting, Unknown Event</td>\n",
       "      <td>NaN</td>\n",
       "    </tr>\n",
       "    <tr>\n",
       "      <th>9371</th>\n",
       "      <td>5146</td>\n",
       "      <td>George Denholm Armour</td>\n",
       "      <td>M</td>\n",
       "      <td>84.0</td>\n",
       "      <td>NaN</td>\n",
       "      <td>NaN</td>\n",
       "      <td>Great Britain</td>\n",
       "      <td>GBR</td>\n",
       "      <td>1948 Summer</td>\n",
       "      <td>1948.0</td>\n",
       "      <td>Summer</td>\n",
       "      <td>London</td>\n",
       "      <td>Art Competitions</td>\n",
       "      <td>Art Competitions Mixed Painting, Unknown Event</td>\n",
       "      <td>NaN</td>\n",
       "    </tr>\n",
       "    <tr>\n",
       "      <th>18969</th>\n",
       "      <td>77710</td>\n",
       "      <td>Robert Tait McKenzie</td>\n",
       "      <td>M</td>\n",
       "      <td>81.0</td>\n",
       "      <td>NaN</td>\n",
       "      <td>NaN</td>\n",
       "      <td>Canada</td>\n",
       "      <td>CAN</td>\n",
       "      <td>1948 Summer</td>\n",
       "      <td>1948.0</td>\n",
       "      <td>Summer</td>\n",
       "      <td>London</td>\n",
       "      <td>Art Competitions</td>\n",
       "      <td>Art Competitions Mixed Sculpturing, Unknown Event</td>\n",
       "      <td>NaN</td>\n",
       "    </tr>\n",
       "    <tr>\n",
       "      <th>10651</th>\n",
       "      <td>118789</td>\n",
       "      <td>Louis Tauzin</td>\n",
       "      <td>M</td>\n",
       "      <td>81.0</td>\n",
       "      <td>NaN</td>\n",
       "      <td>NaN</td>\n",
       "      <td>France</td>\n",
       "      <td>FRA</td>\n",
       "      <td>1924 Summer</td>\n",
       "      <td>1924.0</td>\n",
       "      <td>Summer</td>\n",
       "      <td>Paris</td>\n",
       "      <td>Art Competitions</td>\n",
       "      <td>Art Competitions Mixed Sculpturing</td>\n",
       "      <td>NaN</td>\n",
       "    </tr>\n",
       "    <tr>\n",
       "      <th>2926</th>\n",
       "      <td>69729</td>\n",
       "      <td>Max Liebermann</td>\n",
       "      <td>M</td>\n",
       "      <td>80.0</td>\n",
       "      <td>NaN</td>\n",
       "      <td>NaN</td>\n",
       "      <td>Germany</td>\n",
       "      <td>GER</td>\n",
       "      <td>1928 Summer</td>\n",
       "      <td>1928.0</td>\n",
       "      <td>Summer</td>\n",
       "      <td>Amsterdam</td>\n",
       "      <td>Art Competitions</td>\n",
       "      <td>Art Competitions Mixed Painting, Graphic Arts</td>\n",
       "      <td>NaN</td>\n",
       "    </tr>\n",
       "    <tr>\n",
       "      <th>12442</th>\n",
       "      <td>85936</td>\n",
       "      <td>Charles Henry Niehaus</td>\n",
       "      <td>M</td>\n",
       "      <td>77.0</td>\n",
       "      <td>NaN</td>\n",
       "      <td>NaN</td>\n",
       "      <td>United States</td>\n",
       "      <td>USA</td>\n",
       "      <td>1932 Summer</td>\n",
       "      <td>1932.0</td>\n",
       "      <td>Summer</td>\n",
       "      <td>Los Angeles</td>\n",
       "      <td>Art Competitions</td>\n",
       "      <td>Art Competitions Mixed Sculpturing, Unknown Event</td>\n",
       "      <td>NaN</td>\n",
       "    </tr>\n",
       "    <tr>\n",
       "      <th>12247</th>\n",
       "      <td>85838</td>\n",
       "      <td>William Newzam Prior Nicholson</td>\n",
       "      <td>M</td>\n",
       "      <td>76.0</td>\n",
       "      <td>NaN</td>\n",
       "      <td>NaN</td>\n",
       "      <td>Great Britain</td>\n",
       "      <td>GBR</td>\n",
       "      <td>1948 Summer</td>\n",
       "      <td>1948.0</td>\n",
       "      <td>Summer</td>\n",
       "      <td>London</td>\n",
       "      <td>Art Competitions</td>\n",
       "      <td>Art Competitions Mixed Painting, Unknown Event</td>\n",
       "      <td>NaN</td>\n",
       "    </tr>\n",
       "    <tr>\n",
       "      <th>11176</th>\n",
       "      <td>28993</td>\n",
       "      <td>Albin Dbrich</td>\n",
       "      <td>M</td>\n",
       "      <td>76.0</td>\n",
       "      <td>NaN</td>\n",
       "      <td>NaN</td>\n",
       "      <td>Austria</td>\n",
       "      <td>AUT</td>\n",
       "      <td>1948 Summer</td>\n",
       "      <td>1948.0</td>\n",
       "      <td>Summer</td>\n",
       "      <td>London</td>\n",
       "      <td>Art Competitions</td>\n",
       "      <td>Art Competitions Mixed Sculpturing, Unknown Event</td>\n",
       "      <td>NaN</td>\n",
       "    </tr>\n",
       "  </tbody>\n",
       "</table>\n",
       "</div>"
      ],
      "text/plain": [
       "           ID                            Name Sex   Age  Height  Weight  \\\n",
       "8329   128719          John Quincy Adams Ward   M  97.0     NaN     NaN   \n",
       "7477    49663                   Winslow Homer   M  96.0     NaN     NaN   \n",
       "15439   31173      Thomas Cowperthwait Eakins   M  88.0     NaN     NaN   \n",
       "9371     5146           George Denholm Armour   M  84.0     NaN     NaN   \n",
       "18969   77710            Robert Tait McKenzie   M  81.0     NaN     NaN   \n",
       "10651  118789                    Louis Tauzin   M  81.0     NaN     NaN   \n",
       "2926    69729                  Max Liebermann   M  80.0     NaN     NaN   \n",
       "12442   85936           Charles Henry Niehaus   M  77.0     NaN     NaN   \n",
       "12247   85838  William Newzam Prior Nicholson   M  76.0     NaN     NaN   \n",
       "11176   28993                    Albin Dbrich   M  76.0     NaN     NaN   \n",
       "\n",
       "                Team  NOC        Games    Year  Season         City  \\\n",
       "8329   United States  USA  1928 Summer  1928.0  Summer    Amsterdam   \n",
       "7477   United States  USA  1932 Summer  1932.0  Summer  Los Angeles   \n",
       "15439  United States  USA  1932 Summer  1932.0  Summer  Los Angeles   \n",
       "9371   Great Britain  GBR  1948 Summer  1948.0  Summer       London   \n",
       "18969         Canada  CAN  1948 Summer  1948.0  Summer       London   \n",
       "10651         France  FRA  1924 Summer  1924.0  Summer        Paris   \n",
       "2926         Germany  GER  1928 Summer  1928.0  Summer    Amsterdam   \n",
       "12442  United States  USA  1932 Summer  1932.0  Summer  Los Angeles   \n",
       "12247  Great Britain  GBR  1948 Summer  1948.0  Summer       London   \n",
       "11176        Austria  AUT  1948 Summer  1948.0  Summer       London   \n",
       "\n",
       "                  Sport                                              Event  \\\n",
       "8329   Art Competitions        Art Competitions Mixed Sculpturing, Statues   \n",
       "7477   Art Competitions     Art Competitions Mixed Painting, Unknown Event   \n",
       "15439  Art Competitions     Art Competitions Mixed Painting, Unknown Event   \n",
       "9371   Art Competitions     Art Competitions Mixed Painting, Unknown Event   \n",
       "18969  Art Competitions  Art Competitions Mixed Sculpturing, Unknown Event   \n",
       "10651  Art Competitions                 Art Competitions Mixed Sculpturing   \n",
       "2926   Art Competitions      Art Competitions Mixed Painting, Graphic Arts   \n",
       "12442  Art Competitions  Art Competitions Mixed Sculpturing, Unknown Event   \n",
       "12247  Art Competitions     Art Competitions Mixed Painting, Unknown Event   \n",
       "11176  Art Competitions  Art Competitions Mixed Sculpturing, Unknown Event   \n",
       "\n",
       "      Medal  \n",
       "8329    NaN  \n",
       "7477    NaN  \n",
       "15439   NaN  \n",
       "9371    NaN  \n",
       "18969   NaN  \n",
       "10651   NaN  \n",
       "2926    NaN  \n",
       "12442   NaN  \n",
       "12247   NaN  \n",
       "11176   NaN  "
      ]
     },
     "execution_count": 21,
     "metadata": {},
     "output_type": "execute_result"
    }
   ],
   "source": [
    "df.sort_values(\"Age\", ascending=False)[0:10]"
   ]
  },
  {
   "cell_type": "code",
   "execution_count": 22,
   "id": "e914dd59",
   "metadata": {},
   "outputs": [
    {
     "data": {
      "text/plain": [
       "(array([1.4000e+01, 2.2600e+02, 3.0360e+03, 3.8510e+03, 1.3527e+04,\n",
       "        2.6894e+04, 3.9961e+04, 2.1860e+04, 4.1395e+04, 3.3658e+04,\n",
       "        2.5454e+04, 9.4740e+03, 1.3771e+04, 8.7420e+03, 5.5980e+03,\n",
       "        1.9120e+03, 2.9530e+03, 2.1080e+03, 1.5770e+03, 6.5700e+02,\n",
       "        9.4900e+02, 7.3100e+02, 5.5500e+02, 1.8100e+02, 3.7200e+02,\n",
       "        2.2300e+02, 1.0900e+02, 1.3000e+02, 1.3800e+02, 8.3000e+01,\n",
       "        4.2000e+01, 5.4000e+01, 4.4000e+01, 2.8000e+01, 1.1000e+01,\n",
       "        3.7000e+01, 1.0000e+01, 6.0000e+00, 1.0000e+00, 0.0000e+00,\n",
       "        3.0000e+00, 0.0000e+00, 1.0000e+00, 0.0000e+00, 1.0000e+00,\n",
       "        0.0000e+00, 0.0000e+00, 0.0000e+00, 0.0000e+00, 2.0000e+00]),\n",
       " array([10.  , 11.74, 13.48, 15.22, 16.96, 18.7 , 20.44, 22.18, 23.92,\n",
       "        25.66, 27.4 , 29.14, 30.88, 32.62, 34.36, 36.1 , 37.84, 39.58,\n",
       "        41.32, 43.06, 44.8 , 46.54, 48.28, 50.02, 51.76, 53.5 , 55.24,\n",
       "        56.98, 58.72, 60.46, 62.2 , 63.94, 65.68, 67.42, 69.16, 70.9 ,\n",
       "        72.64, 74.38, 76.12, 77.86, 79.6 , 81.34, 83.08, 84.82, 86.56,\n",
       "        88.3 , 90.04, 91.78, 93.52, 95.26, 97.  ]),\n",
       " <BarContainer object of 50 artists>)"
      ]
     },
     "execution_count": 22,
     "metadata": {},
     "output_type": "execute_result"
    },
    {
     "data": {
      "image/png": "[encoded data removed]",
      "text/plain": [
       "<Figure size 640x480 with 1 Axes>"
      ]
     },
     "metadata": {},
     "output_type": "display_data"
    }
   ],
   "source": [
    "plt.hist(df['Age'], bins = 50)"
   ]
  },
  {
   "cell_type": "markdown",
   "id": "ec2584a9",
   "metadata": {},
   "source": [
    "let us do the same with height"
   ]
  },
  {
   "cell_type": "code",
   "execution_count": 23,
   "id": "2fe63b29",
   "metadata": {},
   "outputs": [
    {
     "data": {
      "text/plain": [
       "(array([1.2000e+01, 2.9000e+01, 1.1400e+02, 3.8200e+02, 7.3500e+02,\n",
       "        1.9470e+03, 3.8510e+03, 1.1540e+04, 1.9495e+04, 2.1682e+04,\n",
       "        3.2215e+04, 3.8435e+04, 2.7237e+04, 2.3979e+04, 1.4665e+04,\n",
       "        8.6390e+03, 3.3340e+03, 1.6290e+03, 5.3100e+02, 2.9700e+02,\n",
       "        1.0000e+02, 3.2000e+01, 8.0000e+00, 3.0000e+00, 0.0000e+00,\n",
       "        0.0000e+00, 0.0000e+00, 0.0000e+00, 0.0000e+00, 0.0000e+00,\n",
       "        0.0000e+00, 0.0000e+00, 0.0000e+00, 0.0000e+00, 0.0000e+00,\n",
       "        0.0000e+00, 0.0000e+00, 0.0000e+00, 0.0000e+00, 0.0000e+00,\n",
       "        0.0000e+00, 0.0000e+00, 0.0000e+00, 0.0000e+00, 0.0000e+00,\n",
       "        0.0000e+00, 0.0000e+00, 0.0000e+00, 0.0000e+00, 1.0000e+00]),\n",
       " array([127.  , 131.26, 135.52, 139.78, 144.04, 148.3 , 152.56, 156.82,\n",
       "        161.08, 165.34, 169.6 , 173.86, 178.12, 182.38, 186.64, 190.9 ,\n",
       "        195.16, 199.42, 203.68, 207.94, 212.2 , 216.46, 220.72, 224.98,\n",
       "        229.24, 233.5 , 237.76, 242.02, 246.28, 250.54, 254.8 , 259.06,\n",
       "        263.32, 267.58, 271.84, 276.1 , 280.36, 284.62, 288.88, 293.14,\n",
       "        297.4 , 301.66, 305.92, 310.18, 314.44, 318.7 , 322.96, 327.22,\n",
       "        331.48, 335.74, 340.  ]),\n",
       " <BarContainer object of 50 artists>)"
      ]
     },
     "execution_count": 23,
     "metadata": {},
     "output_type": "execute_result"
    },
    {
     "data": {
      "image/png": "[encoded data removed]",
      "text/plain": [
       "<Figure size 640x480 with 1 Axes>"
      ]
     },
     "metadata": {},
     "output_type": "display_data"
    }
   ],
   "source": [
    "#height\n",
    "plt.hist(df['Height'], bins = 50)"
   ]
  },
  {
   "cell_type": "code",
   "execution_count": 24,
   "id": "68919168",
   "metadata": {},
   "outputs": [
    {
     "data": {
      "text/plain": [
       "(array([8.0000e+00, 2.0000e+00, 1.1000e+01, 6.0000e+00, 4.2000e+01,\n",
       "        3.8000e+01, 1.0800e+02, 1.4600e+02, 1.7600e+02, 3.1900e+02,\n",
       "        4.1600e+02, 8.7200e+02, 1.0750e+03, 1.3760e+03, 2.4750e+03,\n",
       "        3.8030e+03, 5.9830e+03, 5.7460e+03, 8.2570e+03, 1.0862e+04,\n",
       "        1.3788e+04, 1.6247e+04, 1.2401e+04, 1.3925e+04, 1.6738e+04,\n",
       "        1.5613e+04, 1.6493e+04, 1.0743e+04, 1.2641e+04, 1.1338e+04,\n",
       "        8.1830e+03, 6.4800e+03, 3.8030e+03, 3.5470e+03, 2.6190e+03,\n",
       "        1.7030e+03, 1.0060e+03, 6.3900e+02, 4.5400e+02, 2.9600e+02,\n",
       "        1.8100e+02, 1.1100e+02, 7.0000e+01, 6.9000e+01, 3.1000e+01,\n",
       "        2.4000e+01, 8.0000e+00, 4.0000e+00, 4.0000e+00, 3.0000e+00]),\n",
       " array([127.  , 128.98, 130.96, 132.94, 134.92, 136.9 , 138.88, 140.86,\n",
       "        142.84, 144.82, 146.8 , 148.78, 150.76, 152.74, 154.72, 156.7 ,\n",
       "        158.68, 160.66, 162.64, 164.62, 166.6 , 168.58, 170.56, 172.54,\n",
       "        174.52, 176.5 , 178.48, 180.46, 182.44, 184.42, 186.4 , 188.38,\n",
       "        190.36, 192.34, 194.32, 196.3 , 198.28, 200.26, 202.24, 204.22,\n",
       "        206.2 , 208.18, 210.16, 212.14, 214.12, 216.1 , 218.08, 220.06,\n",
       "        222.04, 224.02, 226.  ]),\n",
       " <BarContainer object of 50 artists>)"
      ]
     },
     "execution_count": 24,
     "metadata": {},
     "output_type": "execute_result"
    },
    {
     "data": {
      "image/png": "[encoded data removed]",
      "text/plain": [
       "<Figure size 640x480 with 1 Axes>"
      ]
     },
     "metadata": {},
     "output_type": "display_data"
    }
   ],
   "source": [
    "df = df.drop(df[df.Height == 340].index)\n",
    "plt.hist(df['Height'], bins = 50)"
   ]
  },
  {
   "cell_type": "markdown",
   "id": "6060d8c4",
   "metadata": {},
   "source": [
    "wow we have normal distribution now:)"
   ]
  },
  {
   "cell_type": "markdown",
   "id": "b3d14754",
   "metadata": {},
   "source": [
    "### Task 3\n",
    "Let us find out the age of the youngest athletes of both sexes at the 1992 Olympics"
   ]
  },
  {
   "cell_type": "code",
   "execution_count": 25,
   "id": "d8a49704",
   "metadata": {},
   "outputs": [
    {
     "data": {
      "text/html": [
       "<div>\n",
       "<style scoped>\n",
       "    .dataframe tbody tr th:only-of-type {\n",
       "        vertical-align: middle;\n",
       "    }\n",
       "\n",
       "    .dataframe tbody tr th {\n",
       "        vertical-align: top;\n",
       "    }\n",
       "\n",
       "    .dataframe thead th {\n",
       "        text-align: right;\n",
       "    }\n",
       "</style>\n",
       "<table border=\"1\" class=\"dataframe\">\n",
       "  <thead>\n",
       "    <tr style=\"text-align: right;\">\n",
       "      <th></th>\n",
       "      <th>ID</th>\n",
       "      <th>Name</th>\n",
       "      <th>Sex</th>\n",
       "      <th>Age</th>\n",
       "      <th>Height</th>\n",
       "      <th>Weight</th>\n",
       "      <th>Team</th>\n",
       "      <th>NOC</th>\n",
       "      <th>Games</th>\n",
       "      <th>Year</th>\n",
       "      <th>Season</th>\n",
       "      <th>City</th>\n",
       "      <th>Sport</th>\n",
       "      <th>Event</th>\n",
       "      <th>Medal</th>\n",
       "    </tr>\n",
       "  </thead>\n",
       "  <tbody>\n",
       "    <tr>\n",
       "      <th>5480</th>\n",
       "      <td>37333</td>\n",
       "      <td>Carlos Bienvenido Front Barrera</td>\n",
       "      <td>M</td>\n",
       "      <td>11.0</td>\n",
       "      <td>NaN</td>\n",
       "      <td>NaN</td>\n",
       "      <td>Spain</td>\n",
       "      <td>ESP</td>\n",
       "      <td>1992 Summer</td>\n",
       "      <td>1992.0</td>\n",
       "      <td>Summer</td>\n",
       "      <td>Barcelona</td>\n",
       "      <td>Rowing</td>\n",
       "      <td>Rowing Men's Coxed Eights</td>\n",
       "      <td>NaN</td>\n",
       "    </tr>\n",
       "  </tbody>\n",
       "</table>\n",
       "</div>"
      ],
      "text/plain": [
       "         ID                             Name Sex   Age  Height  Weight   Team  \\\n",
       "5480  37333  Carlos Bienvenido Front Barrera   M  11.0     NaN     NaN  Spain   \n",
       "\n",
       "      NOC        Games    Year  Season       City   Sport  \\\n",
       "5480  ESP  1992 Summer  1992.0  Summer  Barcelona  Rowing   \n",
       "\n",
       "                          Event Medal  \n",
       "5480  Rowing Men's Coxed Eights   NaN  "
      ]
     },
     "execution_count": 25,
     "metadata": {},
     "output_type": "execute_result"
    }
   ],
   "source": [
    "#Men\n",
    "df[(df[\"Sex\"] == \"M\")&(df[\"Year\"] == 1992)].sort_values(\"Age\")[0:1]"
   ]
  },
  {
   "cell_type": "code",
   "execution_count": 26,
   "id": "0da6508d",
   "metadata": {},
   "outputs": [
    {
     "data": {
      "text/html": [
       "<div>\n",
       "<style scoped>\n",
       "    .dataframe tbody tr th:only-of-type {\n",
       "        vertical-align: middle;\n",
       "    }\n",
       "\n",
       "    .dataframe tbody tr th {\n",
       "        vertical-align: top;\n",
       "    }\n",
       "\n",
       "    .dataframe thead th {\n",
       "        text-align: right;\n",
       "    }\n",
       "</style>\n",
       "<table border=\"1\" class=\"dataframe\">\n",
       "  <thead>\n",
       "    <tr style=\"text-align: right;\">\n",
       "      <th></th>\n",
       "      <th>ID</th>\n",
       "      <th>Name</th>\n",
       "      <th>Sex</th>\n",
       "      <th>Age</th>\n",
       "      <th>Height</th>\n",
       "      <th>Weight</th>\n",
       "      <th>Team</th>\n",
       "      <th>NOC</th>\n",
       "      <th>Games</th>\n",
       "      <th>Year</th>\n",
       "      <th>Season</th>\n",
       "      <th>City</th>\n",
       "      <th>Sport</th>\n",
       "      <th>Event</th>\n",
       "      <th>Medal</th>\n",
       "    </tr>\n",
       "  </thead>\n",
       "  <tbody>\n",
       "    <tr>\n",
       "      <th>6990</th>\n",
       "      <td>60854</td>\n",
       "      <td>Judit Kiss</td>\n",
       "      <td>F</td>\n",
       "      <td>12.0</td>\n",
       "      <td>171.0</td>\n",
       "      <td>57.0</td>\n",
       "      <td>Hungary</td>\n",
       "      <td>HUN</td>\n",
       "      <td>1992 Summer</td>\n",
       "      <td>1992.0</td>\n",
       "      <td>Summer</td>\n",
       "      <td>Barcelona</td>\n",
       "      <td>Swimming</td>\n",
       "      <td>Swimming Women's 400 metres Freestyle</td>\n",
       "      <td>NaN</td>\n",
       "    </tr>\n",
       "  </tbody>\n",
       "</table>\n",
       "</div>"
      ],
      "text/plain": [
       "         ID        Name Sex   Age  Height  Weight     Team  NOC        Games  \\\n",
       "6990  60854  Judit Kiss   F  12.0   171.0    57.0  Hungary  HUN  1992 Summer   \n",
       "\n",
       "        Year  Season       City     Sport  \\\n",
       "6990  1992.0  Summer  Barcelona  Swimming   \n",
       "\n",
       "                                      Event Medal  \n",
       "6990  Swimming Women's 400 metres Freestyle   NaN  "
      ]
     },
     "execution_count": 26,
     "metadata": {},
     "output_type": "execute_result"
    }
   ],
   "source": [
    "#Women\n",
    "df[(df[\"Sex\"] == \"F\")&(df[\"Year\"] == 1992)].sort_values(\"Age\")[0:1]"
   ]
  },
  {
   "cell_type": "markdown",
   "id": "7cf1635d",
   "metadata": {},
   "source": [
    "### Task 4\n",
    "Let us calculate the mean and standard deviation of the Height variable for\n",
    "athletes of each gender."
   ]
  },
  {
   "cell_type": "code",
   "execution_count": 27,
   "id": "4e14fdf7",
   "metadata": {},
   "outputs": [
    {
     "data": {
      "text/plain": [
       "178.85850160959907"
      ]
     },
     "execution_count": 27,
     "metadata": {},
     "output_type": "execute_result"
    }
   ],
   "source": [
    "#mean men\n",
    "np.mean(df[(df[\"Sex\"] == \"M\")][\"Height\"])"
   ]
  },
  {
   "cell_type": "code",
   "execution_count": 28,
   "id": "03f95b1b",
   "metadata": {},
   "outputs": [
    {
     "data": {
      "text/plain": [
       "167.83970372129613"
      ]
     },
     "execution_count": 28,
     "metadata": {},
     "output_type": "execute_result"
    }
   ],
   "source": [
    "#mean women\n",
    "np.mean(df[(df[\"Sex\"] == \"F\")][\"Height\"])"
   ]
  },
  {
   "cell_type": "code",
   "execution_count": 29,
   "id": "aa628bb5",
   "metadata": {},
   "outputs": [
    {
     "data": {
      "text/plain": [
       "9.360249926784949"
      ]
     },
     "execution_count": 29,
     "metadata": {},
     "output_type": "execute_result"
    }
   ],
   "source": [
    "#std men\n",
    "np.std(df[(df[\"Sex\"] == \"M\")][\"Height\"])"
   ]
  },
  {
   "cell_type": "code",
   "execution_count": 30,
   "id": "82c74d5a",
   "metadata": {},
   "outputs": [
    {
     "data": {
      "text/plain": [
       "8.778866824996427"
      ]
     },
     "execution_count": 30,
     "metadata": {},
     "output_type": "execute_result"
    }
   ],
   "source": [
    "#std women\n",
    "np.std(df[(df[\"Sex\"] == \"F\")][\"Height\"])"
   ]
  },
  {
   "cell_type": "markdown",
   "id": "ea802403",
   "metadata": {},
   "source": [
    "### Task 5\n",
    "Let us calculate the mean and standard deviation of Height of\n",
    "tennis players (sex = F) at the 2000 Olympics and round the answer to the first decimal place\n",
    "after the dot."
   ]
  },
  {
   "cell_type": "code",
   "execution_count": 31,
   "id": "2bb56a03",
   "metadata": {},
   "outputs": [
    {
     "data": {
      "text/plain": [
       "array(['Basketball', 'Judo', 'Football', 'Tug-Of-War', 'Speed Skating',\n",
       "       'Cross Country Skiing', 'Athletics', 'Ice Hockey', 'Swimming',\n",
       "       'Badminton', 'Sailing', 'Biathlon', 'Gymnastics',\n",
       "       'Art Competitions', 'Alpine Skiing', 'Handball', 'Weightlifting',\n",
       "       'Wrestling', 'Luge', 'Water Polo', 'Hockey', 'Rowing', 'Bobsleigh',\n",
       "       'Fencing', 'Equestrianism', 'Shooting', 'Boxing', 'Taekwondo',\n",
       "       'Cycling', 'Diving', 'Canoeing', 'Tennis', 'Modern Pentathlon',\n",
       "       'Figure Skating', 'Golf', 'Softball', 'Archery', 'Volleyball',\n",
       "       'Synchronized Swimming', 'Table Tennis', 'Nordic Combined',\n",
       "       'Baseball', 'Rhythmic Gymnastics', 'Freestyle Skiing',\n",
       "       'Rugby Sevens', 'Trampolining', 'Beach Volleyball', 'Triathlon',\n",
       "       'Ski Jumping', 'Curling', 'Snowboarding', 'Rugby',\n",
       "       'Short Track Speed Skating', 'Skeleton', 'Lacrosse', 'Polo',\n",
       "       'Cricket', 'Racquets', 'Motorboating', 'Military Ski Patrol',\n",
       "       'Croquet', 'Jeu De Paume', nan, 'Roque', 'Alpinism',\n",
       "       'Basque Pelota', 'Footba', 'Aeronautics'], dtype=object)"
      ]
     },
     "execution_count": 31,
     "metadata": {},
     "output_type": "execute_result"
    }
   ],
   "source": [
    "df['Sport'].unique()"
   ]
  },
  {
   "cell_type": "code",
   "execution_count": 32,
   "id": "13dd1c2a",
   "metadata": {},
   "outputs": [
    {
     "data": {
      "text/plain": [
       "171.8"
      ]
     },
     "execution_count": 32,
     "metadata": {},
     "output_type": "execute_result"
    }
   ],
   "source": [
    "#mean\n",
    "round(np.mean(df[(df[\"Sex\"] == \"F\")&(df[\"Year\"] == 2000)&(df[\"Sport\"] == \"Tennis\")][\"Height\"]), 1)"
   ]
  },
  {
   "cell_type": "markdown",
   "id": "bfb51199",
   "metadata": {},
   "source": [
    "### Task 6\n",
    "Let us discover what sport the heaviest weightlifter competed in at the 2006 Olympics?"
   ]
  },
  {
   "cell_type": "code",
   "execution_count": 33,
   "id": "584326db",
   "metadata": {},
   "outputs": [
    {
     "data": {
      "text/plain": [
       "'Skeleton'"
      ]
     },
     "execution_count": 33,
     "metadata": {},
     "output_type": "execute_result"
    }
   ],
   "source": [
    "df[(df[\"Year\"] == 2006)].dropna(subset = \"Weight\").sort_values(\"Weight\", ascending = False).iloc[0, 12]"
   ]
  },
  {
   "cell_type": "markdown",
   "id": "3e42e331",
   "metadata": {},
   "source": [
    "### Task 7\n",
    "Let us discover how many gold medals were won by women from 1980 to 2010"
   ]
  },
  {
   "cell_type": "code",
   "execution_count": 34,
   "id": "db331c94",
   "metadata": {},
   "outputs": [
    {
     "data": {
      "text/plain": [
       "1420"
      ]
     },
     "execution_count": 34,
     "metadata": {},
     "output_type": "execute_result"
    }
   ],
   "source": [
    "len(df[(df[\"Sex\"] == \"F\")&(df[\"Year\"] <= 2000)&(df[\"Year\"] >= 1980)&(df[\"Medal\"] == \"Gold\")])"
   ]
  },
  {
   "cell_type": "markdown",
   "id": "64981f4d",
   "metadata": {},
   "source": [
    "### Task 8\n",
    "Let us calculate how many times John Aalberg has competed in the Olympic Games in different\n",
    "years"
   ]
  },
  {
   "cell_type": "code",
   "execution_count": 35,
   "id": "eec6ded6",
   "metadata": {},
   "outputs": [
    {
     "data": {
      "text/html": [
       "<div>\n",
       "<style scoped>\n",
       "    .dataframe tbody tr th:only-of-type {\n",
       "        vertical-align: middle;\n",
       "    }\n",
       "\n",
       "    .dataframe tbody tr th {\n",
       "        vertical-align: top;\n",
       "    }\n",
       "\n",
       "    .dataframe thead th {\n",
       "        text-align: right;\n",
       "    }\n",
       "</style>\n",
       "<table border=\"1\" class=\"dataframe\">\n",
       "  <thead>\n",
       "    <tr style=\"text-align: right;\">\n",
       "      <th></th>\n",
       "      <th>ID</th>\n",
       "      <th>Name</th>\n",
       "      <th>Sex</th>\n",
       "      <th>Age</th>\n",
       "      <th>Height</th>\n",
       "      <th>Weight</th>\n",
       "      <th>Team</th>\n",
       "      <th>NOC</th>\n",
       "      <th>Games</th>\n",
       "      <th>Year</th>\n",
       "      <th>Season</th>\n",
       "      <th>City</th>\n",
       "      <th>Sport</th>\n",
       "      <th>Event</th>\n",
       "      <th>Medal</th>\n",
       "    </tr>\n",
       "  </thead>\n",
       "  <tbody>\n",
       "    <tr>\n",
       "      <th>18</th>\n",
       "      <td>7</td>\n",
       "      <td>John Aalberg</td>\n",
       "      <td>M</td>\n",
       "      <td>31.0</td>\n",
       "      <td>183.0</td>\n",
       "      <td>72.0</td>\n",
       "      <td>United States</td>\n",
       "      <td>USA</td>\n",
       "      <td>1992 Winter</td>\n",
       "      <td>1992.0</td>\n",
       "      <td>Winter</td>\n",
       "      <td>Albertville</td>\n",
       "      <td>Cross Country Skiing</td>\n",
       "      <td>Cross Country Skiing Men's 10 kilometres</td>\n",
       "      <td>NaN</td>\n",
       "    </tr>\n",
       "    <tr>\n",
       "      <th>19</th>\n",
       "      <td>7</td>\n",
       "      <td>John Aalberg</td>\n",
       "      <td>M</td>\n",
       "      <td>31.0</td>\n",
       "      <td>183.0</td>\n",
       "      <td>72.0</td>\n",
       "      <td>United States</td>\n",
       "      <td>USA</td>\n",
       "      <td>1992 Winter</td>\n",
       "      <td>1992.0</td>\n",
       "      <td>Winter</td>\n",
       "      <td>Albertville</td>\n",
       "      <td>Cross Country Skiing</td>\n",
       "      <td>Cross Country Skiing Men's 50 kilometres</td>\n",
       "      <td>NaN</td>\n",
       "    </tr>\n",
       "    <tr>\n",
       "      <th>20</th>\n",
       "      <td>7</td>\n",
       "      <td>John Aalberg</td>\n",
       "      <td>M</td>\n",
       "      <td>31.0</td>\n",
       "      <td>183.0</td>\n",
       "      <td>72.0</td>\n",
       "      <td>United States</td>\n",
       "      <td>USA</td>\n",
       "      <td>1992 Winter</td>\n",
       "      <td>1992.0</td>\n",
       "      <td>Winter</td>\n",
       "      <td>Albertville</td>\n",
       "      <td>Cross Country Skiing</td>\n",
       "      <td>Cross Country Skiing Men's 10/15 kilometres Pu...</td>\n",
       "      <td>NaN</td>\n",
       "    </tr>\n",
       "    <tr>\n",
       "      <th>21</th>\n",
       "      <td>7</td>\n",
       "      <td>John Aalberg</td>\n",
       "      <td>M</td>\n",
       "      <td>31.0</td>\n",
       "      <td>183.0</td>\n",
       "      <td>72.0</td>\n",
       "      <td>United States</td>\n",
       "      <td>USA</td>\n",
       "      <td>1992 Winter</td>\n",
       "      <td>1992.0</td>\n",
       "      <td>Winter</td>\n",
       "      <td>Albertville</td>\n",
       "      <td>Cross Country Skiing</td>\n",
       "      <td>Cross Country Skiing Men's 4 x 10 kilometres R...</td>\n",
       "      <td>NaN</td>\n",
       "    </tr>\n",
       "    <tr>\n",
       "      <th>22</th>\n",
       "      <td>7</td>\n",
       "      <td>John Aalberg</td>\n",
       "      <td>M</td>\n",
       "      <td>33.0</td>\n",
       "      <td>183.0</td>\n",
       "      <td>72.0</td>\n",
       "      <td>United States</td>\n",
       "      <td>USA</td>\n",
       "      <td>1994 Winter</td>\n",
       "      <td>1994.0</td>\n",
       "      <td>Winter</td>\n",
       "      <td>Lillehammer</td>\n",
       "      <td>Cross Country Skiing</td>\n",
       "      <td>Cross Country Skiing Men's 10 kilometres</td>\n",
       "      <td>NaN</td>\n",
       "    </tr>\n",
       "    <tr>\n",
       "      <th>23</th>\n",
       "      <td>7</td>\n",
       "      <td>John Aalberg</td>\n",
       "      <td>M</td>\n",
       "      <td>33.0</td>\n",
       "      <td>183.0</td>\n",
       "      <td>72.0</td>\n",
       "      <td>United States</td>\n",
       "      <td>USA</td>\n",
       "      <td>1994 Winter</td>\n",
       "      <td>1994.0</td>\n",
       "      <td>Winter</td>\n",
       "      <td>Lillehammer</td>\n",
       "      <td>Cross Country Skiing</td>\n",
       "      <td>Cross Country Skiing Men's 30 kilometres</td>\n",
       "      <td>NaN</td>\n",
       "    </tr>\n",
       "    <tr>\n",
       "      <th>24</th>\n",
       "      <td>7</td>\n",
       "      <td>John Aalberg</td>\n",
       "      <td>M</td>\n",
       "      <td>33.0</td>\n",
       "      <td>183.0</td>\n",
       "      <td>72.0</td>\n",
       "      <td>United States</td>\n",
       "      <td>USA</td>\n",
       "      <td>1994 Winter</td>\n",
       "      <td>1994.0</td>\n",
       "      <td>Winter</td>\n",
       "      <td>Lillehammer</td>\n",
       "      <td>Cross Country Skiing</td>\n",
       "      <td>Cross Country Skiing Men's 10/15 kilometres Pu...</td>\n",
       "      <td>NaN</td>\n",
       "    </tr>\n",
       "    <tr>\n",
       "      <th>25</th>\n",
       "      <td>7</td>\n",
       "      <td>John Aalberg</td>\n",
       "      <td>M</td>\n",
       "      <td>33.0</td>\n",
       "      <td>183.0</td>\n",
       "      <td>72.0</td>\n",
       "      <td>United States</td>\n",
       "      <td>USA</td>\n",
       "      <td>1994 Winter</td>\n",
       "      <td>1994.0</td>\n",
       "      <td>Winter</td>\n",
       "      <td>Lillehammer</td>\n",
       "      <td>Cross Country Skiing</td>\n",
       "      <td>Cross Country Skiing Men's 4 x 10 kilometres R...</td>\n",
       "      <td>NaN</td>\n",
       "    </tr>\n",
       "  </tbody>\n",
       "</table>\n",
       "</div>"
      ],
      "text/plain": [
       "    ID          Name Sex   Age  Height  Weight           Team  NOC  \\\n",
       "18   7  John Aalberg   M  31.0   183.0    72.0  United States  USA   \n",
       "19   7  John Aalberg   M  31.0   183.0    72.0  United States  USA   \n",
       "20   7  John Aalberg   M  31.0   183.0    72.0  United States  USA   \n",
       "21   7  John Aalberg   M  31.0   183.0    72.0  United States  USA   \n",
       "22   7  John Aalberg   M  33.0   183.0    72.0  United States  USA   \n",
       "23   7  John Aalberg   M  33.0   183.0    72.0  United States  USA   \n",
       "24   7  John Aalberg   M  33.0   183.0    72.0  United States  USA   \n",
       "25   7  John Aalberg   M  33.0   183.0    72.0  United States  USA   \n",
       "\n",
       "          Games    Year  Season         City                 Sport  \\\n",
       "18  1992 Winter  1992.0  Winter  Albertville  Cross Country Skiing   \n",
       "19  1992 Winter  1992.0  Winter  Albertville  Cross Country Skiing   \n",
       "20  1992 Winter  1992.0  Winter  Albertville  Cross Country Skiing   \n",
       "21  1992 Winter  1992.0  Winter  Albertville  Cross Country Skiing   \n",
       "22  1994 Winter  1994.0  Winter  Lillehammer  Cross Country Skiing   \n",
       "23  1994 Winter  1994.0  Winter  Lillehammer  Cross Country Skiing   \n",
       "24  1994 Winter  1994.0  Winter  Lillehammer  Cross Country Skiing   \n",
       "25  1994 Winter  1994.0  Winter  Lillehammer  Cross Country Skiing   \n",
       "\n",
       "                                                Event Medal  \n",
       "18           Cross Country Skiing Men's 10 kilometres   NaN  \n",
       "19           Cross Country Skiing Men's 50 kilometres   NaN  \n",
       "20  Cross Country Skiing Men's 10/15 kilometres Pu...   NaN  \n",
       "21  Cross Country Skiing Men's 4 x 10 kilometres R...   NaN  \n",
       "22           Cross Country Skiing Men's 10 kilometres   NaN  \n",
       "23           Cross Country Skiing Men's 30 kilometres   NaN  \n",
       "24  Cross Country Skiing Men's 10/15 kilometres Pu...   NaN  \n",
       "25  Cross Country Skiing Men's 4 x 10 kilometres R...   NaN  "
      ]
     },
     "execution_count": 35,
     "metadata": {},
     "output_type": "execute_result"
    }
   ],
   "source": [
    "df[(df[\"Name\"] == \"John Aalberg\")]"
   ]
  },
  {
   "cell_type": "code",
   "execution_count": 36,
   "id": "b074a2e2",
   "metadata": {},
   "outputs": [
    {
     "data": {
      "text/plain": [
       "8"
      ]
     },
     "execution_count": 36,
     "metadata": {},
     "output_type": "execute_result"
    }
   ],
   "source": [
    "len(df[(df[\"Name\"] == \"John Aalberg\")])"
   ]
  },
  {
   "cell_type": "markdown",
   "id": "cf0f8632",
   "metadata": {},
   "source": [
    "### Task 9\n",
    "Let us determine the least and most represented (by number of participants)\n",
    "age groups of athletes at the 2008 Olympics"
   ]
  },
  {
   "cell_type": "code",
   "execution_count": 37,
   "id": "bcf42959",
   "metadata": {},
   "outputs": [
    {
     "data": {
      "text/plain": [
       "129985"
      ]
     },
     "execution_count": 37,
     "metadata": {},
     "output_type": "execute_result"
    }
   ],
   "source": [
    "#15-25\n",
    "len(df[(df[\"Age\"] >= 15)&(df[\"Age\"] < 25)])"
   ]
  },
  {
   "cell_type": "code",
   "execution_count": 38,
   "id": "5247b346",
   "metadata": {},
   "outputs": [
    {
     "data": {
      "text/plain": [
       "110793"
      ]
     },
     "execution_count": 38,
     "metadata": {},
     "output_type": "execute_result"
    }
   ],
   "source": [
    "#25-35\n",
    "len(df[(df[\"Age\"] >= 25)&(df[\"Age\"] < 35)])"
   ]
  },
  {
   "cell_type": "code",
   "execution_count": 39,
   "id": "2f9ecd13",
   "metadata": {},
   "outputs": [
    {
     "data": {
      "text/plain": [
       "14805"
      ]
     },
     "execution_count": 39,
     "metadata": {},
     "output_type": "execute_result"
    }
   ],
   "source": [
    "#35-45\n",
    "len(df[(df[\"Age\"] >= 35)&(df[\"Age\"] < 45)])"
   ]
  },
  {
   "cell_type": "code",
   "execution_count": 40,
   "id": "bc54d44c",
   "metadata": {},
   "outputs": [
    {
     "data": {
      "text/plain": [
       "3011"
      ]
     },
     "execution_count": 40,
     "metadata": {},
     "output_type": "execute_result"
    }
   ],
   "source": [
    "#45-55\n",
    "len(df[(df[\"Age\"] >= 45)&(df[\"Age\"] <= 55)])"
   ]
  },
  {
   "cell_type": "markdown",
   "id": "10510aa1",
   "metadata": {},
   "source": [
    "15-25 y.o. group is the biggest"
   ]
  },
  {
   "cell_type": "markdown",
   "id": "a1f839b4",
   "metadata": {},
   "source": [
    "### Task 10\n",
    "Let us discover how much the number of sports at the 2002 Olympics has changed compared to\n",
    "the 1994 Olympics"
   ]
  },
  {
   "cell_type": "code",
   "execution_count": 41,
   "id": "c0bbd323",
   "metadata": {},
   "outputs": [
    {
     "data": {
      "text/plain": [
       "15"
      ]
     },
     "execution_count": 41,
     "metadata": {},
     "output_type": "execute_result"
    }
   ],
   "source": [
    "len(df[(df[\"Year\"] == 2002)][\"Sport\"].unique())"
   ]
  },
  {
   "cell_type": "code",
   "execution_count": 42,
   "id": "eca2f5ea",
   "metadata": {},
   "outputs": [
    {
     "data": {
      "text/plain": [
       "12"
      ]
     },
     "execution_count": 42,
     "metadata": {},
     "output_type": "execute_result"
    }
   ],
   "source": [
    "len(df[(df[\"Year\"] == 1994)][\"Sport\"].unique())"
   ]
  },
  {
   "cell_type": "code",
   "execution_count": 43,
   "id": "bca9a623",
   "metadata": {},
   "outputs": [
    {
     "name": "stdout",
     "output_type": "stream",
     "text": [
      "Skeleton\n",
      "Snowboarding\n",
      "Curling\n"
     ]
    }
   ],
   "source": [
    "for i in df[(df[\"Year\"] == 2002)][\"Sport\"].unique():\n",
    "    if i not in df[(df[\"Year\"] == 1994)][\"Sport\"].unique():\n",
    "        print(i)"
   ]
  },
  {
   "cell_type": "markdown",
   "id": "1b120c1d",
   "metadata": {},
   "source": [
    "3 new types of sport added"
   ]
  },
  {
   "cell_type": "markdown",
   "id": "41ffb7c8",
   "metadata": {},
   "source": [
    "### Task 11\n",
    "Let us output top 3 countries for each medal types for the winter and summer Olympiad separately"
   ]
  },
  {
   "cell_type": "code",
   "execution_count": 44,
   "id": "5c61f590",
   "metadata": {},
   "outputs": [
    {
     "data": {
      "text/plain": [
       "230"
      ]
     },
     "execution_count": 44,
     "metadata": {},
     "output_type": "execute_result"
    }
   ],
   "source": [
    "countries = df[\"NOC\"].dropna().unique()\n",
    "len(countries)"
   ]
  },
  {
   "cell_type": "code",
   "execution_count": 45,
   "id": "673421ad",
   "metadata": {},
   "outputs": [],
   "source": [
    "medal_winter = []\n",
    "medal_summer = []\n",
    "\n",
    "for i in countries:\n",
    "    gold_w = 0 \n",
    "    silver_w = 0 \n",
    "    bronze_w = 0\n",
    "    \n",
    "    gold_s = 0 \n",
    "    silver_s = 0 \n",
    "    bronze_s = 0\n",
    "    \n",
    "    medal_dict_winter = {}\n",
    "    medal_dict_summer = {}\n",
    "    \n",
    "    gold_w = len(df[(df[\"NOC\"] == i)&(df[\"Medal\"] == \"Gold\")&(df[\"Season\"] == \"Winter\")])\n",
    "    silver_w = len(df[(df[\"NOC\"] == i)&(df[\"Medal\"] == \"Silver\")&(df[\"Season\"] == \"Winter\")])\n",
    "    bronze_w = len(df[(df[\"NOC\"] == i)&(df[\"Medal\"] == \"Bronze\")&(df[\"Season\"] == \"Winter\")])\n",
    "    \n",
    "    gold_s = len(df[(df[\"NOC\"] == i)&(df[\"Medal\"] == \"Gold\")&(df[\"Season\"] == \"Summer\")])\n",
    "    silver_s = len(df[(df[\"NOC\"] == i)&(df[\"Medal\"] == \"Silver\")&(df[\"Season\"] == \"Summer\")])\n",
    "    bronze_s = len(df[(df[\"NOC\"] == i)&(df[\"Medal\"] == \"Bronze\")&(df[\"Season\"] == \"Summer\")])\n",
    "    \n",
    "    medal_dict_winter = {\"Country\": i, \"Gold\": gold_w, \"Silver\": silver_w, \"Bronze\": bronze_w}\n",
    "    medal_dict_summer = {\"Country\": i, \"Gold\": gold_s, \"Silver\": silver_s, \"Bronze\": bronze_s}\n",
    "    \n",
    "    medal_winter.append(medal_dict_winter)\n",
    "    medal_summer.append(medal_dict_summer)"
   ]
  },
  {
   "cell_type": "code",
   "execution_count": 46,
   "id": "60532e3a",
   "metadata": {},
   "outputs": [
    {
     "data": {
      "text/html": [
       "<div>\n",
       "<style scoped>\n",
       "    .dataframe tbody tr th:only-of-type {\n",
       "        vertical-align: middle;\n",
       "    }\n",
       "\n",
       "    .dataframe tbody tr th {\n",
       "        vertical-align: top;\n",
       "    }\n",
       "\n",
       "    .dataframe thead th {\n",
       "        text-align: right;\n",
       "    }\n",
       "</style>\n",
       "<table border=\"1\" class=\"dataframe\">\n",
       "  <thead>\n",
       "    <tr style=\"text-align: right;\">\n",
       "      <th></th>\n",
       "      <th>Country</th>\n",
       "      <th>Gold</th>\n",
       "      <th>Silver</th>\n",
       "      <th>Bronze</th>\n",
       "    </tr>\n",
       "  </thead>\n",
       "  <tbody>\n",
       "    <tr>\n",
       "      <th>0</th>\n",
       "      <td>CHN</td>\n",
       "      <td>16</td>\n",
       "      <td>30</td>\n",
       "      <td>34</td>\n",
       "    </tr>\n",
       "    <tr>\n",
       "      <th>1</th>\n",
       "      <td>DEN</td>\n",
       "      <td>0</td>\n",
       "      <td>5</td>\n",
       "      <td>0</td>\n",
       "    </tr>\n",
       "    <tr>\n",
       "      <th>2</th>\n",
       "      <td>NED</td>\n",
       "      <td>42</td>\n",
       "      <td>38</td>\n",
       "      <td>42</td>\n",
       "    </tr>\n",
       "    <tr>\n",
       "      <th>3</th>\n",
       "      <td>USA</td>\n",
       "      <td>165</td>\n",
       "      <td>308</td>\n",
       "      <td>161</td>\n",
       "    </tr>\n",
       "    <tr>\n",
       "      <th>4</th>\n",
       "      <td>FIN</td>\n",
       "      <td>66</td>\n",
       "      <td>145</td>\n",
       "      <td>214</td>\n",
       "    </tr>\n",
       "    <tr>\n",
       "      <th>...</th>\n",
       "      <td>...</td>\n",
       "      <td>...</td>\n",
       "      <td>...</td>\n",
       "      <td>...</td>\n",
       "    </tr>\n",
       "    <tr>\n",
       "      <th>225</th>\n",
       "      <td>TUV</td>\n",
       "      <td>0</td>\n",
       "      <td>0</td>\n",
       "      <td>0</td>\n",
       "    </tr>\n",
       "    <tr>\n",
       "      <th>226</th>\n",
       "      <td>NFL</td>\n",
       "      <td>0</td>\n",
       "      <td>0</td>\n",
       "      <td>0</td>\n",
       "    </tr>\n",
       "    <tr>\n",
       "      <th>227</th>\n",
       "      <td>KOS</td>\n",
       "      <td>0</td>\n",
       "      <td>0</td>\n",
       "      <td>0</td>\n",
       "    </tr>\n",
       "    <tr>\n",
       "      <th>228</th>\n",
       "      <td>SSD</td>\n",
       "      <td>0</td>\n",
       "      <td>0</td>\n",
       "      <td>0</td>\n",
       "    </tr>\n",
       "    <tr>\n",
       "      <th>229</th>\n",
       "      <td>LES</td>\n",
       "      <td>0</td>\n",
       "      <td>0</td>\n",
       "      <td>0</td>\n",
       "    </tr>\n",
       "  </tbody>\n",
       "</table>\n",
       "<p>230 rows × 4 columns</p>\n",
       "</div>"
      ],
      "text/plain": [
       "    Country  Gold  Silver  Bronze\n",
       "0       CHN    16      30      34\n",
       "1       DEN     0       5       0\n",
       "2       NED    42      38      42\n",
       "3       USA   165     308     161\n",
       "4       FIN    66     145     214\n",
       "..      ...   ...     ...     ...\n",
       "225     TUV     0       0       0\n",
       "226     NFL     0       0       0\n",
       "227     KOS     0       0       0\n",
       "228     SSD     0       0       0\n",
       "229     LES     0       0       0\n",
       "\n",
       "[230 rows x 4 columns]"
      ]
     },
     "execution_count": 46,
     "metadata": {},
     "output_type": "execute_result"
    }
   ],
   "source": [
    "df_winter = pd.DataFrame(medal_winter)\n",
    "df_winter"
   ]
  },
  {
   "cell_type": "code",
   "execution_count": 47,
   "id": "288d2264",
   "metadata": {},
   "outputs": [
    {
     "data": {
      "text/html": [
       "<div>\n",
       "<style scoped>\n",
       "    .dataframe tbody tr th:only-of-type {\n",
       "        vertical-align: middle;\n",
       "    }\n",
       "\n",
       "    .dataframe tbody tr th {\n",
       "        vertical-align: top;\n",
       "    }\n",
       "\n",
       "    .dataframe thead th {\n",
       "        text-align: right;\n",
       "    }\n",
       "</style>\n",
       "<table border=\"1\" class=\"dataframe\">\n",
       "  <thead>\n",
       "    <tr style=\"text-align: right;\">\n",
       "      <th></th>\n",
       "      <th>Country</th>\n",
       "      <th>Gold</th>\n",
       "      <th>Silver</th>\n",
       "      <th>Bronze</th>\n",
       "    </tr>\n",
       "  </thead>\n",
       "  <tbody>\n",
       "    <tr>\n",
       "      <th>0</th>\n",
       "      <td>CHN</td>\n",
       "      <td>334</td>\n",
       "      <td>317</td>\n",
       "      <td>258</td>\n",
       "    </tr>\n",
       "    <tr>\n",
       "      <th>1</th>\n",
       "      <td>DEN</td>\n",
       "      <td>179</td>\n",
       "      <td>236</td>\n",
       "      <td>177</td>\n",
       "    </tr>\n",
       "    <tr>\n",
       "      <th>2</th>\n",
       "      <td>NED</td>\n",
       "      <td>245</td>\n",
       "      <td>302</td>\n",
       "      <td>371</td>\n",
       "    </tr>\n",
       "    <tr>\n",
       "      <th>3</th>\n",
       "      <td>USA</td>\n",
       "      <td>2472</td>\n",
       "      <td>1333</td>\n",
       "      <td>1197</td>\n",
       "    </tr>\n",
       "    <tr>\n",
       "      <th>4</th>\n",
       "      <td>FIN</td>\n",
       "      <td>131</td>\n",
       "      <td>125</td>\n",
       "      <td>216</td>\n",
       "    </tr>\n",
       "    <tr>\n",
       "      <th>...</th>\n",
       "      <td>...</td>\n",
       "      <td>...</td>\n",
       "      <td>...</td>\n",
       "      <td>...</td>\n",
       "    </tr>\n",
       "    <tr>\n",
       "      <th>225</th>\n",
       "      <td>TUV</td>\n",
       "      <td>0</td>\n",
       "      <td>0</td>\n",
       "      <td>0</td>\n",
       "    </tr>\n",
       "    <tr>\n",
       "      <th>226</th>\n",
       "      <td>NFL</td>\n",
       "      <td>0</td>\n",
       "      <td>0</td>\n",
       "      <td>0</td>\n",
       "    </tr>\n",
       "    <tr>\n",
       "      <th>227</th>\n",
       "      <td>KOS</td>\n",
       "      <td>1</td>\n",
       "      <td>0</td>\n",
       "      <td>0</td>\n",
       "    </tr>\n",
       "    <tr>\n",
       "      <th>228</th>\n",
       "      <td>SSD</td>\n",
       "      <td>0</td>\n",
       "      <td>0</td>\n",
       "      <td>0</td>\n",
       "    </tr>\n",
       "    <tr>\n",
       "      <th>229</th>\n",
       "      <td>LES</td>\n",
       "      <td>0</td>\n",
       "      <td>0</td>\n",
       "      <td>0</td>\n",
       "    </tr>\n",
       "  </tbody>\n",
       "</table>\n",
       "<p>230 rows × 4 columns</p>\n",
       "</div>"
      ],
      "text/plain": [
       "    Country  Gold  Silver  Bronze\n",
       "0       CHN   334     317     258\n",
       "1       DEN   179     236     177\n",
       "2       NED   245     302     371\n",
       "3       USA  2472    1333    1197\n",
       "4       FIN   131     125     216\n",
       "..      ...   ...     ...     ...\n",
       "225     TUV     0       0       0\n",
       "226     NFL     0       0       0\n",
       "227     KOS     1       0       0\n",
       "228     SSD     0       0       0\n",
       "229     LES     0       0       0\n",
       "\n",
       "[230 rows x 4 columns]"
      ]
     },
     "execution_count": 47,
     "metadata": {},
     "output_type": "execute_result"
    }
   ],
   "source": [
    "df_summer = pd.DataFrame(medal_summer)\n",
    "df_summer"
   ]
  },
  {
   "cell_type": "code",
   "execution_count": 67,
   "id": "6a79caa0",
   "metadata": {},
   "outputs": [
    {
     "data": {
      "text/html": [
       "<div>\n",
       "<style scoped>\n",
       "    .dataframe tbody tr th:only-of-type {\n",
       "        vertical-align: middle;\n",
       "    }\n",
       "\n",
       "    .dataframe tbody tr th {\n",
       "        vertical-align: top;\n",
       "    }\n",
       "\n",
       "    .dataframe thead th {\n",
       "        text-align: right;\n",
       "    }\n",
       "</style>\n",
       "<table border=\"1\" class=\"dataframe\">\n",
       "  <thead>\n",
       "    <tr style=\"text-align: right;\">\n",
       "      <th></th>\n",
       "      <th>Country</th>\n",
       "      <th>Gold</th>\n",
       "      <th>Silver</th>\n",
       "      <th>Bronze</th>\n",
       "    </tr>\n",
       "  </thead>\n",
       "  <tbody>\n",
       "    <tr>\n",
       "      <th>0</th>\n",
       "      <td>CHN</td>\n",
       "      <td>350</td>\n",
       "      <td>347</td>\n",
       "      <td>292</td>\n",
       "    </tr>\n",
       "    <tr>\n",
       "      <th>1</th>\n",
       "      <td>DEN</td>\n",
       "      <td>179</td>\n",
       "      <td>241</td>\n",
       "      <td>177</td>\n",
       "    </tr>\n",
       "    <tr>\n",
       "      <th>2</th>\n",
       "      <td>NED</td>\n",
       "      <td>287</td>\n",
       "      <td>340</td>\n",
       "      <td>413</td>\n",
       "    </tr>\n",
       "    <tr>\n",
       "      <th>3</th>\n",
       "      <td>USA</td>\n",
       "      <td>2637</td>\n",
       "      <td>1641</td>\n",
       "      <td>1358</td>\n",
       "    </tr>\n",
       "    <tr>\n",
       "      <th>4</th>\n",
       "      <td>FIN</td>\n",
       "      <td>197</td>\n",
       "      <td>270</td>\n",
       "      <td>430</td>\n",
       "    </tr>\n",
       "    <tr>\n",
       "      <th>...</th>\n",
       "      <td>...</td>\n",
       "      <td>...</td>\n",
       "      <td>...</td>\n",
       "      <td>...</td>\n",
       "    </tr>\n",
       "    <tr>\n",
       "      <th>225</th>\n",
       "      <td>TUV</td>\n",
       "      <td>0</td>\n",
       "      <td>0</td>\n",
       "      <td>0</td>\n",
       "    </tr>\n",
       "    <tr>\n",
       "      <th>226</th>\n",
       "      <td>NFL</td>\n",
       "      <td>0</td>\n",
       "      <td>0</td>\n",
       "      <td>0</td>\n",
       "    </tr>\n",
       "    <tr>\n",
       "      <th>227</th>\n",
       "      <td>KOS</td>\n",
       "      <td>1</td>\n",
       "      <td>0</td>\n",
       "      <td>0</td>\n",
       "    </tr>\n",
       "    <tr>\n",
       "      <th>228</th>\n",
       "      <td>SSD</td>\n",
       "      <td>0</td>\n",
       "      <td>0</td>\n",
       "      <td>0</td>\n",
       "    </tr>\n",
       "    <tr>\n",
       "      <th>229</th>\n",
       "      <td>LES</td>\n",
       "      <td>0</td>\n",
       "      <td>0</td>\n",
       "      <td>0</td>\n",
       "    </tr>\n",
       "  </tbody>\n",
       "</table>\n",
       "<p>230 rows × 4 columns</p>\n",
       "</div>"
      ],
      "text/plain": [
       "    Country  Gold  Silver  Bronze\n",
       "0       CHN   350     347     292\n",
       "1       DEN   179     241     177\n",
       "2       NED   287     340     413\n",
       "3       USA  2637    1641    1358\n",
       "4       FIN   197     270     430\n",
       "..      ...   ...     ...     ...\n",
       "225     TUV     0       0       0\n",
       "226     NFL     0       0       0\n",
       "227     KOS     1       0       0\n",
       "228     SSD     0       0       0\n",
       "229     LES     0       0       0\n",
       "\n",
       "[230 rows x 4 columns]"
      ]
     },
     "execution_count": 67,
     "metadata": {},
     "output_type": "execute_result"
    }
   ],
   "source": [
    "df_total = df_summer+df_winter\n",
    "df_total[\"Country\"] = countries\n",
    "df_total"
   ]
  },
  {
   "cell_type": "code",
   "execution_count": 48,
   "id": "70ef6287",
   "metadata": {},
   "outputs": [
    {
     "data": {
      "text/plain": [
       "'CAN'"
      ]
     },
     "execution_count": 48,
     "metadata": {},
     "output_type": "execute_result"
    }
   ],
   "source": [
    "#Gold winter winner\n",
    "df_winter.sort_values(\"Gold\", ascending=False).iloc[0,0]"
   ]
  },
  {
   "cell_type": "code",
   "execution_count": 49,
   "id": "7be33911",
   "metadata": {},
   "outputs": [
    {
     "data": {
      "text/plain": [
       "'USA'"
      ]
     },
     "execution_count": 49,
     "metadata": {},
     "output_type": "execute_result"
    }
   ],
   "source": [
    "#Silver winter winner\n",
    "df_winter.sort_values(\"Silver\", ascending=False).iloc[0,0]"
   ]
  },
  {
   "cell_type": "code",
   "execution_count": 50,
   "id": "8178a3b5",
   "metadata": {},
   "outputs": [
    {
     "data": {
      "text/plain": [
       "'FIN'"
      ]
     },
     "execution_count": 50,
     "metadata": {},
     "output_type": "execute_result"
    }
   ],
   "source": [
    "#Bronze winter winner\n",
    "df_winter.sort_values(\"Bronze\", ascending=False).iloc[0,0]"
   ]
  },
  {
   "cell_type": "code",
   "execution_count": 51,
   "id": "ba4ae0f7",
   "metadata": {},
   "outputs": [
    {
     "data": {
      "text/plain": [
       "'USA'"
      ]
     },
     "execution_count": 51,
     "metadata": {},
     "output_type": "execute_result"
    }
   ],
   "source": [
    "#Gold summer winner\n",
    "df_summer.sort_values(\"Gold\", ascending=False).iloc[0,0]"
   ]
  },
  {
   "cell_type": "code",
   "execution_count": 52,
   "id": "5cde91ea",
   "metadata": {},
   "outputs": [
    {
     "data": {
      "text/plain": [
       "'USA'"
      ]
     },
     "execution_count": 52,
     "metadata": {},
     "output_type": "execute_result"
    }
   ],
   "source": [
    "#Silver summer winner\n",
    "df_summer.sort_values(\"Silver\", ascending=False).iloc[0,0]"
   ]
  },
  {
   "cell_type": "code",
   "execution_count": 53,
   "id": "3e849f3c",
   "metadata": {},
   "outputs": [
    {
     "data": {
      "text/plain": [
       "'USA'"
      ]
     },
     "execution_count": 53,
     "metadata": {},
     "output_type": "execute_result"
    }
   ],
   "source": [
    "#Bronze summer winner\n",
    "df_summer.sort_values(\"Bronze\", ascending=False).iloc[0,0]"
   ]
  },
  {
   "cell_type": "markdown",
   "id": "b58ccac7",
   "metadata": {},
   "source": [
    "### Task 12"
   ]
  },
  {
   "cell_type": "code",
   "execution_count": 54,
   "id": "b5cf85d1",
   "metadata": {},
   "outputs": [],
   "source": [
    "sample = df[\"Height\"]\n",
    "mean = np.mean(df[\"Height\"])\n",
    "std = np.std(df[\"Height\"])\n",
    "Height_z_scores = []\n",
    "for i in sample:\n",
    "    z = (i - mean)/std\n",
    "    Height_z_scores.append(z)"
   ]
  },
  {
   "cell_type": "code",
   "execution_count": 55,
   "id": "f1ea6f64",
   "metadata": {},
   "outputs": [
    {
     "data": {
      "text/plain": [
       "(array([8.0000e+00, 2.0000e+00, 1.1000e+01, 6.0000e+00, 4.2000e+01,\n",
       "        3.8000e+01, 1.0800e+02, 1.4600e+02, 1.7600e+02, 3.1900e+02,\n",
       "        4.1600e+02, 8.7200e+02, 1.0750e+03, 1.3760e+03, 2.4750e+03,\n",
       "        3.8030e+03, 5.9830e+03, 5.7460e+03, 8.2570e+03, 1.0862e+04,\n",
       "        1.3788e+04, 1.6247e+04, 1.2401e+04, 1.3925e+04, 1.6738e+04,\n",
       "        1.5613e+04, 1.6493e+04, 1.0743e+04, 1.2641e+04, 1.1338e+04,\n",
       "        8.1830e+03, 6.4800e+03, 3.8030e+03, 3.5470e+03, 2.6190e+03,\n",
       "        1.7030e+03, 1.0060e+03, 6.3900e+02, 4.5400e+02, 2.9600e+02,\n",
       "        1.8100e+02, 1.1100e+02, 7.0000e+01, 6.9000e+01, 3.1000e+01,\n",
       "        2.4000e+01, 8.0000e+00, 4.0000e+00, 4.0000e+00, 3.0000e+00]),\n",
       " array([-4.59550891, -4.40727132, -4.21903373, -4.03079614, -3.84255855,\n",
       "        -3.65432096, -3.46608337, -3.27784578, -3.08960819, -2.90137061,\n",
       "        -2.71313302, -2.52489543, -2.33665784, -2.14842025, -1.96018266,\n",
       "        -1.77194507, -1.58370748, -1.39546989, -1.2072323 , -1.01899471,\n",
       "        -0.83075712, -0.64251953, -0.45428194, -0.26604435, -0.07780676,\n",
       "         0.11043083,  0.29866842,  0.48690601,  0.6751436 ,  0.86338119,\n",
       "         1.05161878,  1.23985637,  1.42809396,  1.61633155,  1.80456914,\n",
       "         1.99280673,  2.18104432,  2.3692819 ,  2.55751949,  2.74575708,\n",
       "         2.93399467,  3.12223226,  3.31046985,  3.49870744,  3.68694503,\n",
       "         3.87518262,  4.06342021,  4.2516578 ,  4.43989539,  4.62813298,\n",
       "         4.81637057]),\n",
       " <BarContainer object of 50 artists>)"
      ]
     },
     "execution_count": 55,
     "metadata": {},
     "output_type": "execute_result"
    },
    {
     "data": {
      "image/png": "[encoded data removed]",
      "text/plain": [
       "<Figure size 640x480 with 1 Axes>"
      ]
     },
     "metadata": {},
     "output_type": "display_data"
    }
   ],
   "source": [
    "plt.hist(Height_z_scores, bins = 50)"
   ]
  },
  {
   "cell_type": "markdown",
   "id": "cec9ff05",
   "metadata": {},
   "source": [
    "### Task 13"
   ]
  },
  {
   "cell_type": "code",
   "execution_count": 56,
   "id": "4838ee41",
   "metadata": {},
   "outputs": [],
   "source": [
    "sample = df[\"Height\"]\n",
    "max_height = max(df[\"Height\"])\n",
    "min_height = min(df[\"Height\"])\n",
    "Height_min_max_scaled = []\n",
    "for i in sample:\n",
    "    norm = (i - min_height)/(max_height - min_height)\n",
    "    Height_min_max_scaled.append(norm)"
   ]
  },
  {
   "cell_type": "code",
   "execution_count": 57,
   "id": "ad8d9c7c",
   "metadata": {},
   "outputs": [
    {
     "data": {
      "text/plain": [
       "(array([8.0000e+00, 2.0000e+00, 1.1000e+01, 6.0000e+00, 4.2000e+01,\n",
       "        3.8000e+01, 1.0800e+02, 1.4600e+02, 1.7600e+02, 3.1900e+02,\n",
       "        4.1600e+02, 8.7200e+02, 1.0750e+03, 1.3760e+03, 2.4750e+03,\n",
       "        3.8030e+03, 5.9830e+03, 5.7460e+03, 8.2570e+03, 1.0862e+04,\n",
       "        1.3788e+04, 1.6247e+04, 1.2401e+04, 1.3925e+04, 1.6738e+04,\n",
       "        1.5613e+04, 1.6493e+04, 1.0743e+04, 1.2641e+04, 1.1338e+04,\n",
       "        8.1830e+03, 6.4800e+03, 3.8030e+03, 3.5470e+03, 2.6190e+03,\n",
       "        1.7030e+03, 1.0060e+03, 6.3900e+02, 4.5400e+02, 2.9600e+02,\n",
       "        1.8100e+02, 1.1100e+02, 7.0000e+01, 6.9000e+01, 3.1000e+01,\n",
       "        2.4000e+01, 8.0000e+00, 4.0000e+00, 4.0000e+00, 3.0000e+00]),\n",
       " array([0.  , 0.02, 0.04, 0.06, 0.08, 0.1 , 0.12, 0.14, 0.16, 0.18, 0.2 ,\n",
       "        0.22, 0.24, 0.26, 0.28, 0.3 , 0.32, 0.34, 0.36, 0.38, 0.4 , 0.42,\n",
       "        0.44, 0.46, 0.48, 0.5 , 0.52, 0.54, 0.56, 0.58, 0.6 , 0.62, 0.64,\n",
       "        0.66, 0.68, 0.7 , 0.72, 0.74, 0.76, 0.78, 0.8 , 0.82, 0.84, 0.86,\n",
       "        0.88, 0.9 , 0.92, 0.94, 0.96, 0.98, 1.  ]),\n",
       " <BarContainer object of 50 artists>)"
      ]
     },
     "execution_count": 57,
     "metadata": {},
     "output_type": "execute_result"
    },
    {
     "data": {
      "image/png": "[encoded data removed]",
      "text/plain": [
       "<Figure size 640x480 with 1 Axes>"
      ]
     },
     "metadata": {},
     "output_type": "display_data"
    }
   ],
   "source": [
    "plt.hist(Height_min_max_scaled, bins = 50)"
   ]
  },
  {
   "cell_type": "markdown",
   "id": "22608140",
   "metadata": {},
   "source": [
    "### Task 14"
   ]
  },
  {
   "cell_type": "code",
   "execution_count": 58,
   "id": "47d1719a",
   "metadata": {},
   "outputs": [
    {
     "data": {
      "text/plain": [
       "<AxesSubplot: xlabel='Sex', ylabel='Height'>"
      ]
     },
     "execution_count": 58,
     "metadata": {},
     "output_type": "execute_result"
    },
    {
     "data": {
      "image/png": "[encoded data removed]",
      "text/plain": [
       "<Figure size 800x600 with 1 Axes>"
      ]
     },
     "metadata": {},
     "output_type": "display_data"
    }
   ],
   "source": [
    "sns.set_theme(style=\"whitegrid\")\n",
    "plt.figure(figsize=(8, 6))\n",
    "sns.set_context('paper')\n",
    "sns.barplot(data=df[df[\"Season\"] == \"Winter\"], x = \"Sex\", y = 'Height', palette = 'Blues', width = 0.3, errorbar=\"sd\", errwidth = 0.5)"
   ]
  },
  {
   "cell_type": "code",
   "execution_count": 59,
   "id": "fb663173",
   "metadata": {},
   "outputs": [
    {
     "data": {
      "text/plain": [
       "<AxesSubplot: xlabel='Sex', ylabel='Weight'>"
      ]
     },
     "execution_count": 59,
     "metadata": {},
     "output_type": "execute_result"
    },
    {
     "data": {
      "image/png": "[encoded data removed]",
      "text/plain": [
       "<Figure size 800x600 with 1 Axes>"
      ]
     },
     "metadata": {},
     "output_type": "display_data"
    }
   ],
   "source": [
    "sns.set_theme(style=\"whitegrid\")\n",
    "plt.figure(figsize=(8, 6))\n",
    "sns.set_context('paper')\n",
    "sns.barplot(df[df[\"Season\"] == \"Winter\"], x = \"Sex\", y = 'Weight', palette = 'Blues', width = 0.3, errorbar=\"sd\", errwidth = 0.5)"
   ]
  },
  {
   "cell_type": "code",
   "execution_count": 60,
   "id": "1b7a74d8",
   "metadata": {},
   "outputs": [
    {
     "data": {
      "text/plain": [
       "<AxesSubplot: xlabel='Sex', ylabel='Age'>"
      ]
     },
     "execution_count": 60,
     "metadata": {},
     "output_type": "execute_result"
    },
    {
     "data": {
      "image/png": "[encoded data removed]",
      "text/plain": [
       "<Figure size 800x600 with 1 Axes>"
      ]
     },
     "metadata": {},
     "output_type": "display_data"
    }
   ],
   "source": [
    "sns.set_theme(style=\"whitegrid\")\n",
    "plt.figure(figsize=(8, 6))\n",
    "sns.set_context('paper')\n",
    "sns.barplot(data=df[df[\"Season\"] == \"Winter\"], x = \"Sex\", y = 'Age', palette = 'Blues', width = 0.3, errorbar=\"sd\", errwidth = 0.5)"
   ]
  },
  {
   "cell_type": "markdown",
   "id": "01ceed8a",
   "metadata": {},
   "source": [
    "### Task 15"
   ]
  },
  {
   "cell_type": "code",
   "execution_count": 77,
   "id": "db7c894d",
   "metadata": {},
   "outputs": [
    {
     "data": {
      "text/plain": [
       "<AxesSubplot: xlabel='Country'>"
      ]
     },
     "execution_count": 77,
     "metadata": {},
     "output_type": "execute_result"
    },
    {
     "data": {
      "image/png": "[encoded data removed]",
      "text/plain": [
       "<Figure size 640x480 with 1 Axes>"
      ]
     },
     "metadata": {},
     "output_type": "display_data"
    }
   ],
   "source": [
    "df_total.sort_values(by = [\"Gold\", \"Silver\", \"Bronze\"], ascending=False).head(30).plot(x = 'Country', kind='bar', stacked=True)"
   ]
  },
  {
   "cell_type": "code",
   "execution_count": 79,
   "id": "9393f70d",
   "metadata": {},
   "outputs": [
    {
     "data": {
      "text/plain": [
       "1185"
      ]
     },
     "execution_count": 79,
     "metadata": {},
     "output_type": "execute_result"
    }
   ],
   "source": [
    "teams = df[\"Team\"].unique()\n",
    "len(teams)"
   ]
  },
  {
   "cell_type": "code",
   "execution_count": 80,
   "id": "49a905a9",
   "metadata": {},
   "outputs": [],
   "source": [
    "#more teams than countries\n",
    "medals = []\n",
    "\n",
    "for i in teams:\n",
    "    gold = 0 \n",
    "    silver = 0 \n",
    "    bronze = 0\n",
    "    \n",
    "    medal_dict = {}\n",
    "    \n",
    "    gold = len(df[(df[\"Team\"] == i)&(df[\"Medal\"] == \"Gold\")])\n",
    "    silver = len(df[(df[\"Team\"] == i)&(df[\"Medal\"] == \"Silver\")])\n",
    "    bronze = len(df[(df[\"Team\"] == i)&(df[\"Medal\"] == \"Bronze\")])\n",
    "\n",
    "    medal_dict = {\"Team\": i, \"Gold\": gold, \"Silver\": silver, \"Bronze\": bronze}\n",
    "\n",
    "    medals.append(medal_dict)"
   ]
  },
  {
   "cell_type": "code",
   "execution_count": 82,
   "id": "1901f47a",
   "metadata": {},
   "outputs": [
    {
     "data": {
      "text/html": [
       "<div>\n",
       "<style scoped>\n",
       "    .dataframe tbody tr th:only-of-type {\n",
       "        vertical-align: middle;\n",
       "    }\n",
       "\n",
       "    .dataframe tbody tr th {\n",
       "        vertical-align: top;\n",
       "    }\n",
       "\n",
       "    .dataframe thead th {\n",
       "        text-align: right;\n",
       "    }\n",
       "</style>\n",
       "<table border=\"1\" class=\"dataframe\">\n",
       "  <thead>\n",
       "    <tr style=\"text-align: right;\">\n",
       "      <th></th>\n",
       "      <th>Team</th>\n",
       "      <th>Gold</th>\n",
       "      <th>Silver</th>\n",
       "      <th>Bronze</th>\n",
       "    </tr>\n",
       "  </thead>\n",
       "  <tbody>\n",
       "    <tr>\n",
       "      <th>0</th>\n",
       "      <td>China</td>\n",
       "      <td>308</td>\n",
       "      <td>325</td>\n",
       "      <td>268</td>\n",
       "    </tr>\n",
       "    <tr>\n",
       "      <th>1</th>\n",
       "      <td>Denmark</td>\n",
       "      <td>168</td>\n",
       "      <td>223</td>\n",
       "      <td>162</td>\n",
       "    </tr>\n",
       "    <tr>\n",
       "      <th>2</th>\n",
       "      <td>Denmark/Sweden</td>\n",
       "      <td>6</td>\n",
       "      <td>0</td>\n",
       "      <td>0</td>\n",
       "    </tr>\n",
       "    <tr>\n",
       "      <th>3</th>\n",
       "      <td>Netherlands</td>\n",
       "      <td>277</td>\n",
       "      <td>321</td>\n",
       "      <td>390</td>\n",
       "    </tr>\n",
       "    <tr>\n",
       "      <th>4</th>\n",
       "      <td>United States</td>\n",
       "      <td>2473</td>\n",
       "      <td>1512</td>\n",
       "      <td>1233</td>\n",
       "    </tr>\n",
       "    <tr>\n",
       "      <th>...</th>\n",
       "      <td>...</td>\n",
       "      <td>...</td>\n",
       "      <td>...</td>\n",
       "      <td>...</td>\n",
       "    </tr>\n",
       "    <tr>\n",
       "      <th>1180</th>\n",
       "      <td>Sea Dog-2</td>\n",
       "      <td>0</td>\n",
       "      <td>0</td>\n",
       "      <td>0</td>\n",
       "    </tr>\n",
       "    <tr>\n",
       "      <th>1181</th>\n",
       "      <td>Mainz</td>\n",
       "      <td>0</td>\n",
       "      <td>0</td>\n",
       "      <td>0</td>\n",
       "    </tr>\n",
       "    <tr>\n",
       "      <th>1182</th>\n",
       "      <td>Solos Carex</td>\n",
       "      <td>0</td>\n",
       "      <td>0</td>\n",
       "      <td>0</td>\n",
       "    </tr>\n",
       "    <tr>\n",
       "      <th>1183</th>\n",
       "      <td>Dow Jones</td>\n",
       "      <td>0</td>\n",
       "      <td>0</td>\n",
       "      <td>0</td>\n",
       "    </tr>\n",
       "    <tr>\n",
       "      <th>1184</th>\n",
       "      <td>Digby</td>\n",
       "      <td>0</td>\n",
       "      <td>0</td>\n",
       "      <td>1</td>\n",
       "    </tr>\n",
       "  </tbody>\n",
       "</table>\n",
       "<p>1185 rows × 4 columns</p>\n",
       "</div>"
      ],
      "text/plain": [
       "                Team  Gold  Silver  Bronze\n",
       "0              China   308     325     268\n",
       "1            Denmark   168     223     162\n",
       "2     Denmark/Sweden     6       0       0\n",
       "3        Netherlands   277     321     390\n",
       "4      United States  2473    1512    1233\n",
       "...              ...   ...     ...     ...\n",
       "1180       Sea Dog-2     0       0       0\n",
       "1181           Mainz     0       0       0\n",
       "1182     Solos Carex     0       0       0\n",
       "1183       Dow Jones     0       0       0\n",
       "1184           Digby     0       0       1\n",
       "\n",
       "[1185 rows x 4 columns]"
      ]
     },
     "execution_count": 82,
     "metadata": {},
     "output_type": "execute_result"
    }
   ],
   "source": [
    "df_teams = pd.DataFrame(medals)\n",
    "df_teams"
   ]
  },
  {
   "cell_type": "code",
   "execution_count": 83,
   "id": "a8d7eb0a",
   "metadata": {},
   "outputs": [
    {
     "data": {
      "text/plain": [
       "<AxesSubplot: xlabel='Team'>"
      ]
     },
     "execution_count": 83,
     "metadata": {},
     "output_type": "execute_result"
    },
    {
     "data": {
      "image/png": "[encoded data removed]",
      "text/plain": [
       "<Figure size 640x480 with 1 Axes>"
      ]
     },
     "metadata": {},
     "output_type": "display_data"
    }
   ],
   "source": [
    "df_teams.sort_values(by = [\"Gold\", \"Silver\", \"Bronze\"], ascending=False).head(30).plot(x = 'Team', kind='bar', stacked=True)"
   ]
  },
  {
   "cell_type": "markdown",
   "id": "505ced97",
   "metadata": {},
   "source": [
    "Medals amount can depend on a country development or geography"
   ]
  },
  {
   "cell_type": "code",
   "execution_count": null,
   "id": "c0fc4cbd",
   "metadata": {},
   "outputs": [],
   "source": []
  }
 ],
 "metadata": {
  "kernelspec": {
   "display_name": "Python 3 (ipykernel)",
   "language": "python",
   "name": "python3"
  },
  "language_info": {
   "codemirror_mode": {
    "name": "ipython",
    "version": 3
   },
   "file_extension": ".py",
   "mimetype": "text/x-python",
   "name": "python",
   "nbconvert_exporter": "python",
   "pygments_lexer": "ipython3",
   "version": "3.9.13"
  }
 },
 "nbformat": 4,
 "nbformat_minor": 5
}
